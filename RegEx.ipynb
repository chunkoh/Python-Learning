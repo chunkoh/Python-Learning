{
 "cells": [
  {
   "cell_type": "markdown",
   "metadata": {},
   "source": [
    "# RegEX"
   ]
  },
  {
   "cell_type": "markdown",
   "metadata": {},
   "source": [
    "### find() Method - Regular Search (no particular location)"
   ]
  },
  {
   "cell_type": "code",
   "execution_count": 2,
   "metadata": {
    "scrolled": true
   },
   "outputs": [
    {
     "name": "stdout",
     "output_type": "stream",
     "text": [
      "From: stephen.marquard@uct.ac.za\n",
      "From: louis@media.berkeley.edu\n",
      "From: zqian@umich.edu\n",
      "From: rjlowe@iupui.edu\n",
      "From: zqian@umich.edu\n",
      "From: rjlowe@iupui.edu\n",
      "From: cwen@iupui.edu\n",
      "From: cwen@iupui.edu\n",
      "From: gsilver@umich.edu\n",
      "From: gsilver@umich.edu\n",
      "From: zqian@umich.edu\n",
      "From: gsilver@umich.edu\n",
      "From: wagnermr@iupui.edu\n",
      "From: zqian@umich.edu\n",
      "From: antranig@caret.cam.ac.uk\n",
      "From: gopal.ramasammycook@gmail.com\n",
      "From: david.horwitz@uct.ac.za\n",
      "From: david.horwitz@uct.ac.za\n",
      "From: david.horwitz@uct.ac.za\n",
      "From: david.horwitz@uct.ac.za\n",
      "From: stephen.marquard@uct.ac.za\n",
      "From: louis@media.berkeley.edu\n",
      "From: louis@media.berkeley.edu\n",
      "From: ray@media.berkeley.edu\n",
      "From: cwen@iupui.edu\n",
      "From: cwen@iupui.edu\n",
      "From: cwen@iupui.edu\n"
     ]
    }
   ],
   "source": [
    "#Open file\n",
    "hand = open('mbox-short.txt')\n",
    "for line in hand:\n",
    "    line = line.rstrip()\n",
    "    #If find does not find value it is looking for it will return a -1\n",
    "    if line.find('From:') >= 0:\n",
    "        print(line)"
   ]
  },
  {
   "cell_type": "markdown",
   "metadata": {},
   "source": [
    "### RegEx Search  (no particular location)"
   ]
  },
  {
   "cell_type": "code",
   "execution_count": 3,
   "metadata": {
    "scrolled": true
   },
   "outputs": [
    {
     "name": "stdout",
     "output_type": "stream",
     "text": [
      "From: stephen.marquard@uct.ac.za\n",
      "From: louis@media.berkeley.edu\n",
      "From: zqian@umich.edu\n",
      "From: rjlowe@iupui.edu\n",
      "From: zqian@umich.edu\n",
      "From: rjlowe@iupui.edu\n",
      "From: cwen@iupui.edu\n",
      "From: cwen@iupui.edu\n",
      "From: gsilver@umich.edu\n",
      "From: gsilver@umich.edu\n",
      "From: zqian@umich.edu\n",
      "From: gsilver@umich.edu\n",
      "From: wagnermr@iupui.edu\n",
      "From: zqian@umich.edu\n",
      "From: antranig@caret.cam.ac.uk\n",
      "From: gopal.ramasammycook@gmail.com\n",
      "From: david.horwitz@uct.ac.za\n",
      "From: david.horwitz@uct.ac.za\n",
      "From: david.horwitz@uct.ac.za\n",
      "From: david.horwitz@uct.ac.za\n",
      "From: stephen.marquard@uct.ac.za\n",
      "From: louis@media.berkeley.edu\n",
      "From: louis@media.berkeley.edu\n",
      "From: ray@media.berkeley.edu\n",
      "From: cwen@iupui.edu\n",
      "From: cwen@iupui.edu\n",
      "From: cwen@iupui.edu\n"
     ]
    }
   ],
   "source": [
    "import re\n",
    "\n",
    "hand = open('mbox-short.txt')\n",
    "for line in hand:\n",
    "    line = line.rstrip()\n",
    "    if re.search('From:', line) :\n",
    "        print(line)"
   ]
  },
  {
   "cell_type": "markdown",
   "metadata": {},
   "source": [
    "### Regular .startswith() Search"
   ]
  },
  {
   "cell_type": "code",
   "execution_count": 4,
   "metadata": {
    "scrolled": true
   },
   "outputs": [
    {
     "name": "stdout",
     "output_type": "stream",
     "text": [
      "From: stephen.marquard@uct.ac.za\n",
      "From: louis@media.berkeley.edu\n",
      "From: zqian@umich.edu\n",
      "From: rjlowe@iupui.edu\n",
      "From: zqian@umich.edu\n",
      "From: rjlowe@iupui.edu\n",
      "From: cwen@iupui.edu\n",
      "From: cwen@iupui.edu\n",
      "From: gsilver@umich.edu\n",
      "From: gsilver@umich.edu\n",
      "From: zqian@umich.edu\n",
      "From: gsilver@umich.edu\n",
      "From: wagnermr@iupui.edu\n",
      "From: zqian@umich.edu\n",
      "From: antranig@caret.cam.ac.uk\n",
      "From: gopal.ramasammycook@gmail.com\n",
      "From: david.horwitz@uct.ac.za\n",
      "From: david.horwitz@uct.ac.za\n",
      "From: david.horwitz@uct.ac.za\n",
      "From: david.horwitz@uct.ac.za\n",
      "From: stephen.marquard@uct.ac.za\n",
      "From: louis@media.berkeley.edu\n",
      "From: louis@media.berkeley.edu\n",
      "From: ray@media.berkeley.edu\n",
      "From: cwen@iupui.edu\n",
      "From: cwen@iupui.edu\n",
      "From: cwen@iupui.edu\n"
     ]
    }
   ],
   "source": [
    "hand = open('mbox-short.txt')\n",
    "for line in hand:\n",
    "    line = line.rstrip()\n",
    "    if line.startswith('From:') :\n",
    "        print(line)\n"
   ]
  },
  {
   "cell_type": "markdown",
   "metadata": {},
   "source": [
    "### Using re.search() Like startswith()"
   ]
  },
  {
   "cell_type": "code",
   "execution_count": 5,
   "metadata": {
    "scrolled": true
   },
   "outputs": [
    {
     "name": "stdout",
     "output_type": "stream",
     "text": [
      "From: stephen.marquard@uct.ac.za\n",
      "From: louis@media.berkeley.edu\n",
      "From: zqian@umich.edu\n",
      "From: rjlowe@iupui.edu\n",
      "From: zqian@umich.edu\n",
      "From: rjlowe@iupui.edu\n",
      "From: cwen@iupui.edu\n",
      "From: cwen@iupui.edu\n",
      "From: gsilver@umich.edu\n",
      "From: gsilver@umich.edu\n",
      "From: zqian@umich.edu\n",
      "From: gsilver@umich.edu\n",
      "From: wagnermr@iupui.edu\n",
      "From: zqian@umich.edu\n",
      "From: antranig@caret.cam.ac.uk\n",
      "From: gopal.ramasammycook@gmail.com\n",
      "From: david.horwitz@uct.ac.za\n",
      "From: david.horwitz@uct.ac.za\n",
      "From: david.horwitz@uct.ac.za\n",
      "From: david.horwitz@uct.ac.za\n",
      "From: stephen.marquard@uct.ac.za\n",
      "From: louis@media.berkeley.edu\n",
      "From: louis@media.berkeley.edu\n",
      "From: ray@media.berkeley.edu\n",
      "From: cwen@iupui.edu\n",
      "From: cwen@iupui.edu\n",
      "From: cwen@iupui.edu\n"
     ]
    }
   ],
   "source": [
    "import re\n",
    "\n",
    "hand = open('mbox-short.txt')\n",
    "for line in hand:\n",
    "    line = line.rstrip()\n",
    "    if re.search('^From:', line) :  #USES THE ^ TO IMPLY \"STARTSWITH\"\n",
    "        print(line)\n"
   ]
  },
  {
   "cell_type": "markdown",
   "metadata": {},
   "source": [
    "### Regular Expression: Quick Guide\n",
    "<pre>\n",
    "^           Matches the beginning of a line\n",
    "$           Matches the end of the line\n",
    ".           Matches any character\n",
    "\\s          Matches whitespace\n",
    "\\S          Matches any non-whitespace character\n",
    "*           Repeats a character zero or more times\n",
    "*?          Repeats a character zero or more times (non-greedy)\n",
    "+           Repeats a character one or more times\n",
    "+?          Repeats a character one or more times (non-greedy)\n",
    "[aeiou]     Matches a single character in the listed set\n",
    "[^XYZ]      Matches a single character not in the listed set\n",
    "[a-z0-9]    The set of characters can include a range\n",
    "(           Indicates where string extraction is to start\n",
    ")           Indicates where string extraction is to end\n",
    "</pre>"
   ]
  },
  {
   "cell_type": "code",
   "execution_count": 6,
   "metadata": {},
   "outputs": [
    {
     "name": "stdout",
     "output_type": "stream",
     "text": [
      "X:Sieve: CMU Sieve 2.3\n",
      "X-DSPAM-Result: Innocent\n",
      "X-DSPAM-Confidence: 0.8475\n",
      "X-Content-Type-Message-Body: text/plain\n",
      "\n",
      "\n",
      "Starts with X with one or more charaters before a colon?\n",
      "<re.Match object; span=(0, 8), match='X:Sieve:'>\n",
      "\n",
      "Starts with X with ONE charater before a colon?\n",
      "None\n",
      "\n"
     ]
    }
   ],
   "source": [
    "longString = \"\"\n",
    "longString += \"X:Sieve: CMU Sieve 2.3\\n\"\n",
    "longString += \"X-DSPAM-Result: Innocent\\n\"\n",
    "longString += \"X-DSPAM-Confidence: 0.8475\\n\"\n",
    "longString += \"X-Content-Type-Message-Body: text/plain\\n\"\n",
    "\n",
    "#Print the entire string\n",
    "print(longString)\n",
    "print()\n",
    "\n",
    "# Print the result of whether we find \n",
    "  # 1. An \"X\" at the START of the string (indicated by ^)\n",
    "  # 2. Followed by any character (indicated by the period (.), \n",
    "  #    ANY number of times INCLUDING ZERO TIMES indicated by the asterisk (*)\n",
    "  # 3. Ending in a colon (:)\n",
    "  # 4. This will find the FIRST occurance of the match\n",
    "print(\"Starts with X with one or more charaters before a colon?\")\n",
    "print(re.search('^X.*:',longString))\n",
    "print()\n",
    "\n",
    "# Print the result of whether we find an \"Y\" at the START of the string\n",
    "  # 1. An \"X\" at the START of the string (indicated by ^)\n",
    "  # 2. Followed by any character (indicated by the period (.)\n",
    "  # 3. Ending in a colon (:)\n",
    "print(\"Starts with X with ONE charater before a colon?\")\n",
    "print(re.search('^X.:',longString))\n",
    "print()\n"
   ]
  },
  {
   "cell_type": "markdown",
   "metadata": {},
   "source": [
    "### Narrow your charaters to NOT include spaces...\n",
    "#### Replace the \".\" (any character) with a \\S (any character except for spaces)\n",
    "#### Replace the * (0 or more characters) with \"+\" (1 or more characters)"
   ]
  },
  {
   "cell_type": "code",
   "execution_count": 7,
   "metadata": {},
   "outputs": [
    {
     "name": "stdout",
     "output_type": "stream",
     "text": [
      "<re.Match object; span=(0, 8), match='X-Sieve:'>\n"
     ]
    }
   ],
   "source": [
    "#Would it match ...\n",
    "\n",
    "# The first line?\n",
    "longString1 = \"X-Sieve: CMU Sieve 2.3\\n\"\n",
    "\n",
    "print(re.search('^X-\\S+:',longString1))"
   ]
  },
  {
   "cell_type": "code",
   "execution_count": 11,
   "metadata": {},
   "outputs": [
    {
     "name": "stdout",
     "output_type": "stream",
     "text": [
      "<re.Match object; span=(0, 15), match='X-DSPAM-Result:'>\n",
      "Starts at 0\n",
      "Ends at 15\n"
     ]
    }
   ],
   "source": [
    "# The second line?\n",
    "longString2 = \"X-DSPAM-Result: Innocent\\n\"\n",
    "\n",
    "print(re.search('^X-\\S+:',longString2))\n",
    "\n",
    "x = re.search('^X-\\S+:',longString2)\n",
    "print(\"Starts at\", x.start())\n",
    "print(\"Ends at\", x.end())"
   ]
  },
  {
   "cell_type": "code",
   "execution_count": 32,
   "metadata": {},
   "outputs": [
    {
     "name": "stdout",
     "output_type": "stream",
     "text": [
      "Fails because there needs to be at least 1 character between the - and the :\n",
      "None\n"
     ]
    }
   ],
   "source": [
    "# The thrid line?\n",
    "longString3 = \"X-: 0.8475\\n\"\n",
    "\n",
    "print(\"Fails because there needs to be at least 1 character between the - and the :\")\n",
    "print(re.search('^X-\\S+:',longString3))"
   ]
  },
  {
   "cell_type": "code",
   "execution_count": 36,
   "metadata": {},
   "outputs": [
    {
     "name": "stdout",
     "output_type": "stream",
     "text": [
      "Fails because there are spaces between - and the :\n",
      "None\n"
     ]
    }
   ],
   "source": [
    "# The fourth line?\n",
    "longString4 = \"X Content Type Message Body: text/plain\\n\"\n",
    "\n",
    "print(\"Fails because there are spaces between - and the :\")\n",
    "print(re.search('^X-\\S+:',longString4))"
   ]
  },
  {
   "cell_type": "markdown",
   "metadata": {},
   "source": [
    "## Matching and <font color=red> Extracting </font> Data\n",
    "#### [0-9] ==> matches a value in the list You can use ranges 1-10  ; A-Q\n",
    "#### + ==> match any ONE or more"
   ]
  },
  {
   "cell_type": "code",
   "execution_count": 42,
   "metadata": {},
   "outputs": [
    {
     "name": "stdout",
     "output_type": "stream",
     "text": [
      "['2', '19', '42']\n"
     ]
    }
   ],
   "source": [
    "x = 'My 2 favorite numbers are 19 and 42'\n",
    "y = re.findall('[0-9]+',x)\n",
    "#y = re.findall('[0-9]*',x)  #We definately do not want the zero or more\n",
    "print(y)\n"
   ]
  },
  {
   "cell_type": "code",
   "execution_count": 51,
   "metadata": {},
   "outputs": [
    {
     "name": "stdout",
     "output_type": "stream",
     "text": [
      "[]\n",
      "\n",
      "['M']\n"
     ]
    }
   ],
   "source": [
    "x = 'My 2 favorite numbers are 19 and 42'\n",
    "#x = 'My 2 favorite Numbers are 19 and 42'\n",
    "#x = 'My 2 favorite NUmbers are 19 and 42'\n",
    "#x = 'My 2 favorite NUMBers are 19 and 42'\n",
    "\n",
    "# Any capital VOWELS?  (Nope)\n",
    "y = re.findall('[AEIOU]+',x)\n",
    "print(y)\n",
    "print()\n",
    "\n",
    "# Any capital CONSONANTS?  (Yep)\n",
    "y = re.findall('[BCDFGHJKLMNPQRSTVWXYZ]+',x)\n",
    "print(y)\n"
   ]
  },
  {
   "cell_type": "markdown",
   "metadata": {},
   "source": [
    "### Goto FIRST? LAST?  -- When do we stop? (Greedy vs. non-greedy)"
   ]
  },
  {
   "cell_type": "markdown",
   "metadata": {},
   "source": [
    "#### GREEDY!!!"
   ]
  },
  {
   "cell_type": "code",
   "execution_count": 12,
   "metadata": {},
   "outputs": [
    {
     "name": "stdout",
     "output_type": "stream",
     "text": [
      "['From: Using the :']\n"
     ]
    }
   ],
   "source": [
    "\n",
    "x = 'From: Using the : character'\n",
    "# 'F' MUST be the first letter\n",
    "# \".\" match any character\n",
    "# \"+\" there has to be at least one character between the \"F\" and the \":\"\n",
    "#  The default is to go until the LAST \":\" that we find in the text\n",
    "y = re.findall('^F.+:', x)\n",
    "print(y)\n"
   ]
  },
  {
   "cell_type": "markdown",
   "metadata": {},
   "source": [
    "#### Non-greedy"
   ]
  },
  {
   "cell_type": "code",
   "execution_count": 13,
   "metadata": {},
   "outputs": [
    {
     "name": "stdout",
     "output_type": "stream",
     "text": [
      "['From:']\n"
     ]
    }
   ],
   "source": [
    "x = 'From: Using the : character'\n",
    "# 'F' MUST be the first letter\n",
    "# \".\" match any character\n",
    "# \"+\" there has to be at least one character between the \"F\" and the \":\"\n",
    "#  The default is to go until the LAST \":\" that we find in the text\n",
    "#  BUT we added a \"?\"  A ? mark after an \"*\" or \"+\" says to stop at the\n",
    "#  first occurance of the character \":\"\n",
    "y = re.findall('^F.+?:', x)\n",
    "print(y)\n"
   ]
  },
  {
   "cell_type": "markdown",
   "metadata": {},
   "source": [
    "### How to extract an EMAIL"
   ]
  },
  {
   "cell_type": "code",
   "execution_count": 54,
   "metadata": {},
   "outputs": [
    {
     "name": "stdout",
     "output_type": "stream",
     "text": [
      "['stephen.marquard@uct.ac.za']\n"
     ]
    }
   ],
   "source": [
    "x = \"From stephen.marquard@uct.ac.za Sat Jan  5 09:14:16 2008\"\n",
    "#x = \"From @uct.ac.za Sat Jan  5 09:14:16 2008\"\n",
    "#x = \"From stephen.marquard@ Sat Jan  5 09:14:16 2008\"\n",
    "\n",
    "# 1. Find a \"@\" then ...\n",
    "# 2. \"\\S+\" before the \"@\" tells me to go to the left  until a space (DON'T INCLUDE THE SPACE)\n",
    "# 3. \"\\S+\" after  the \"@\" tells me to go to the right until a space (DON'T INCLUDE THE SPACE)\n",
    "y = re.findall('\\S+@\\S+',x)\n",
    "print(y)\n"
   ]
  },
  {
   "cell_type": "markdown",
   "metadata": {},
   "source": [
    "### How to extact EMAIL but ONLY the emails where the line starts with \"FROM \"\n",
    "(I don't want the TO emails)"
   ]
  },
  {
   "cell_type": "code",
   "execution_count": 15,
   "metadata": {},
   "outputs": [
    {
     "name": "stdout",
     "output_type": "stream",
     "text": [
      "['From stephen.marquard@uct.ac.za']\n",
      "\n",
      "['stephen.marquard@uct.ac.za']\n"
     ]
    }
   ],
   "source": [
    "x = \"From stephen.marquard@uct.ac.za Sat Jan  5 09:14:16 2008\"\n",
    "# 1. \"^\" tells me to start with the word \"From \" \n",
    "#    (the space after the From is intentional and I want it)\n",
    "# 2. \"\\S\" tells me to look for more chacters after \"From \" but only NON-SPACES\n",
    "#     and the \"+\" tells me that I need at least one non-space between the \"From \"\n",
    "#     and the \"@\" symbol\n",
    "# 3. The \"@\" symbol tells me that there must be an \"@\" symbol in the string\n",
    "# 4. \"\\S+\" after  the \"@\" tells me to go to the right until a space (DON'T INCLUDE THE SPACE)\n",
    "y = re.findall('^From \\S+@\\S+',x)\n",
    "print(y)\n",
    "print()\n",
    "\n",
    "# Same as above BUT the parentheses tell me that I only want what is inside the parentheses\n",
    "#  I still want the string to start with \"From \" but I DO NOT want the \"From \"\n",
    "y = re.findall('^From (\\S+@\\S+)',x)\n",
    "print(y)\n"
   ]
  },
  {
   "cell_type": "markdown",
   "metadata": {},
   "source": [
    "### Getting a substring using STRING slicing..."
   ]
  },
  {
   "cell_type": "code",
   "execution_count": 16,
   "metadata": {},
   "outputs": [
    {
     "name": "stdout",
     "output_type": "stream",
     "text": [
      "21\n",
      "31\n",
      "uct.ac.za\n"
     ]
    }
   ],
   "source": [
    "data = 'From stephen.marquard@uct.ac.za Sat Jan  5 09:14:16 2008'\n",
    "\n",
    "atpos = data.find('@')\n",
    "print(atpos)\n",
    "\n",
    "sppos = data.find(' ',atpos)\n",
    "print(sppos)\n",
    "\n",
    "host = data[atpos+1 : sppos]\n",
    "print(host)"
   ]
  },
  {
   "cell_type": "markdown",
   "metadata": {},
   "source": [
    "### Getting a substring using RegEx"
   ]
  },
  {
   "cell_type": "code",
   "execution_count": 57,
   "metadata": {},
   "outputs": [
    {
     "name": "stdout",
     "output_type": "stream",
     "text": [
      "['uct.ac.za']\n",
      "\n",
      "['@uct.ac.za']\n"
     ]
    }
   ],
   "source": [
    "lin = 'From stephen.marquard@uct.ac.za Sat Jan  5 09:14:16 2008'\n",
    "\n",
    "# 1. Find a \"@\" symbol *** BUT it is not inside the PARENTHESES so do NOT include it ***\n",
    "# 2. \"[]\" generally tells me what characters to allow but here we have the \"^\" which says \n",
    "#     allow any BUT the \" \" (a space) that is inside the []\n",
    "# 3. \"*\" tells me to take as many characters as I can until I find a space.\n",
    "y = re.findall('@([^ ]*)',lin)\n",
    "#Same as doing ...\n",
    "#y = re.findall('@(\\S*)',lin)\n",
    "print(y)\n",
    "print()\n",
    "\n",
    "# What would I do if I wanted the @?  Just removed the ()\n",
    "y = re.findall('@[^ ]*',lin)\n",
    "#Same as doing ...\n",
    "#y = re.findall('@\\S*',lin)\n",
    "print(y)\n"
   ]
  },
  {
   "cell_type": "markdown",
   "metadata": {},
   "source": [
    "### Same search as above but I just want the lines that start wtih From. I only want the emails/server that was for the sender of the email."
   ]
  },
  {
   "cell_type": "code",
   "execution_count": 18,
   "metadata": {},
   "outputs": [
    {
     "name": "stdout",
     "output_type": "stream",
     "text": [
      "['uct.ac.za']\n"
     ]
    }
   ],
   "source": [
    "lin = 'From stephen.marquard@uct.ac.za Sat Jan  5 09:14:16 2008'\n",
    "# 1. Starts with \"From \"\n",
    "# 2. .* ==> contains any number of characters between \"From \" and the \"@\"\n",
    "# 3. but only keep what matches what is in the ()\n",
    "y = re.findall('^From .*@([^ ]*)',lin)\n",
    "print(y)"
   ]
  },
  {
   "cell_type": "markdown",
   "metadata": {},
   "source": [
    "# Pull it all together to look at a FILE"
   ]
  },
  {
   "cell_type": "code",
   "execution_count": 58,
   "metadata": {},
   "outputs": [
    {
     "name": "stdout",
     "output_type": "stream",
     "text": [
      "Maximum: 0.9907\n",
      "\n",
      "[0.8475, 0.6178, 0.6961, 0.7565, 0.7626, 0.7556, 0.7002, 0.7615, 0.7601, 0.7605, 0.6959, 0.7606, 0.7559, 0.7605, 0.6932, 0.7558, 0.6526, 0.6948, 0.6528, 0.7002, 0.7554, 0.6956, 0.6959, 0.7556, 0.9846, 0.8509, 0.9907]\n"
     ]
    }
   ],
   "source": [
    "# 1. Open the file\n",
    "hand = open('mbox-short.txt')\n",
    "\n",
    "#2. Create a blank list to contain every match that you find\n",
    "numlist = list()\n",
    "\n",
    "#3. Start looping through each line in the file\n",
    "for line in hand:\n",
    "    # 3a. Remove the \"\\n\" at the end of each line.\n",
    "    line = line.rstrip()\n",
    "    # 3b. Check to see if this line has a number in it\n",
    "    stuff = re.findall('^X-DSPAM-Confidence: ([0-9.]+)', line)\n",
    "    # 3c. If it does not then \"continue\" the loop and immediately go back to the top\n",
    "    #     of the loop and read the next line in the file\n",
    "    if len(stuff) != 1 :  continue\n",
    "    # 3d. If it does have a number then ...\n",
    "    # 3di. Convert the string to a number (a float)\n",
    "    num = float(stuff[0])\n",
    "    # 3dii. Add the number to the empty list that we created before we started\n",
    "    #       looping through the lines in the file\n",
    "    numlist.append(num)\n",
    "    \n",
    "#4. Print the maximumn number in the list\n",
    "print('Maximum:', max(numlist))\n",
    "print()\n",
    "\n",
    "# 5. How many did we find?\n",
    "print(numlist)"
   ]
  },
  {
   "cell_type": "markdown",
   "metadata": {},
   "source": [
    "### Special circumstances ..."
   ]
  },
  {
   "cell_type": "code",
   "execution_count": 20,
   "metadata": {},
   "outputs": [
    {
     "name": "stdout",
     "output_type": "stream",
     "text": [
      "['$10.00']\n"
     ]
    }
   ],
   "source": [
    "#What if I want to find a character that is normally a \"reserved\" character for RegEx?\n",
    "x = 'We just received $10.00 for cookies.'\n",
    "\n",
    "# Answer:  Just put a \\ in front of it.  That tells Python that it is something you are search for\n",
    "y = re.findall('\\$[0-9.]+',x)\n",
    "print(y)\n"
   ]
  },
  {
   "cell_type": "code",
   "execution_count": null,
   "metadata": {},
   "outputs": [],
   "source": []
  }
 ],
 "metadata": {
  "kernelspec": {
   "display_name": "Python 3",
   "language": "python",
   "name": "python3"
  },
  "language_info": {
   "codemirror_mode": {
    "name": "ipython",
    "version": 3
   },
   "file_extension": ".py",
   "mimetype": "text/x-python",
   "name": "python",
   "nbconvert_exporter": "python",
   "pygments_lexer": "ipython3",
   "version": "3.8.5"
  }
 },
 "nbformat": 4,
 "nbformat_minor": 2
}
