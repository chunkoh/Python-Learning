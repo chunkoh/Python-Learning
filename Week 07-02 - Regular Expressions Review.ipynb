{
 "cells": [
  {
   "cell_type": "markdown",
   "metadata": {},
   "source": [
    "# Financial Data Analytics\n",
    "\n",
    "## Regular expressions in Python - Review\n"
   ]
  },
  {
   "cell_type": "markdown",
   "metadata": {},
   "source": [
    "Regular expressions (also called REs, regexes, or regex patterns) are specially encoded text strings used as patterns for matching parts of text. They are essentially a tiny, highly specialized programming language embedded inside Python (and other programming languages). To access regexes, we must import the `re` module."
   ]
  },
  {
   "cell_type": "markdown",
   "metadata": {},
   "source": [
    "A good place to experiment with regular expressions and learn how they work is [regexr.com](https://regexr.com)"
   ]
  },
  {
   "cell_type": "markdown",
   "metadata": {},
   "source": [
    "The re module provides access to a number of tools for using regular expressions. We'll make most use of:\n",
    "\n",
    "* `re.search` — Find *one instance* of a pattern in a string\n",
    "* `re.findall` — Find *all instances* of a pattern in a string\n",
    "* `re.sub` — String substitution using a regex pattern"
   ]
  },
  {
   "cell_type": "code",
   "execution_count": null,
   "metadata": {},
   "outputs": [],
   "source": [
    "import re"
   ]
  },
  {
   "cell_type": "markdown",
   "metadata": {},
   "source": [
    "# Class Examples 1 to 9:"
   ]
  },
  {
   "cell_type": "markdown",
   "metadata": {},
   "source": [
    "## Example 1"
   ]
  },
  {
   "cell_type": "code",
   "execution_count": null,
   "metadata": {},
   "outputs": [],
   "source": [
    "# Capture the area code in:\n",
    "text = '+1 (812) 856-5664'"
   ]
  },
  {
   "cell_type": "code",
   "execution_count": null,
   "metadata": {},
   "outputs": [],
   "source": [
    "m = re.search(r'\\(\\d{3}\\)', text)\n",
    "m"
   ]
  },
  {
   "cell_type": "code",
   "execution_count": null,
   "metadata": {},
   "outputs": [],
   "source": [
    "m.group(0)"
   ]
  },
  {
   "cell_type": "markdown",
   "metadata": {},
   "source": [
    "## Example 2"
   ]
  },
  {
   "cell_type": "code",
   "execution_count": null,
   "metadata": {},
   "outputs": [],
   "source": [
    "# Capture the top-level domain (.com, .org, …) in a URL like this:\n",
    "url = 'http://kelley.iu.edu/About/'"
   ]
  },
  {
   "cell_type": "code",
   "execution_count": null,
   "metadata": {},
   "outputs": [],
   "source": [
    "m = re.search(r'\\.\\w{3}', url)\n",
    "m.group(0)"
   ]
  },
  {
   "cell_type": "code",
   "execution_count": null,
   "metadata": {},
   "outputs": [],
   "source": [
    "# This is equivalent:\n",
    "m = re.search(r'\\.[a-z]{3}', url)\n",
    "m.group(0)"
   ]
  },
  {
   "cell_type": "markdown",
   "metadata": {},
   "source": [
    "## Example 3"
   ]
  },
  {
   "cell_type": "code",
   "execution_count": null,
   "metadata": {},
   "outputs": [],
   "source": [
    "# Capture the ticker symbol in:\n",
    "info = '''\n",
    "Ford Motor Co. (F) - NYSE\n",
    "Property Insurance Holdings, Inc. (PIH) - Property-Casualty Insurers\n",
    "ABIOMED, Inc. (ABMD) - Medical/Dental Instruments\n",
    "Microsoft Corp. (MSFT) - Software\n",
    "'''"
   ]
  },
  {
   "cell_type": "code",
   "execution_count": null,
   "metadata": {},
   "outputs": [],
   "source": [
    "# This will return an exception...\n",
    "m = re.match(r'\\([A-Z]+\\)', info)\n",
    "m.group(0)\n",
    "# print(m)"
   ]
  },
  {
   "cell_type": "code",
   "execution_count": null,
   "metadata": {},
   "outputs": [],
   "source": [
    "m = re.search(r'\\([A-Z]+\\)', info)\n",
    "m.group(0)"
   ]
  },
  {
   "cell_type": "code",
   "execution_count": null,
   "metadata": {},
   "outputs": [],
   "source": [
    "m = re.findall(r'\\([A-Z]+\\)', info)\n",
    "m"
   ]
  },
  {
   "cell_type": "markdown",
   "metadata": {},
   "source": [
    "## Example 4"
   ]
  },
  {
   "cell_type": "code",
   "execution_count": null,
   "metadata": {},
   "outputs": [],
   "source": [
    "# Capture the domains in the following emails:\n",
    "emails = '''\n",
    "Mor Haziza; 'mhaziza@iu.edu'\n",
    "Jay Z; JZ50@jproductions.com\n",
    "Katy Perry; katy.perry01@kpstudio.org\n",
    "'''"
   ]
  },
  {
   "cell_type": "code",
   "execution_count": null,
   "metadata": {},
   "outputs": [],
   "source": [
    "m = re.search(r'@.*', emails)\n",
    "m.group(0)"
   ]
  },
  {
   "cell_type": "code",
   "execution_count": null,
   "metadata": {},
   "outputs": [],
   "source": [
    "m = re.findall(r'@.*', emails)\n",
    "m"
   ]
  },
  {
   "cell_type": "markdown",
   "metadata": {},
   "source": [
    "## Example 5"
   ]
  },
  {
   "cell_type": "code",
   "execution_count": null,
   "metadata": {},
   "outputs": [],
   "source": [
    "# Capture the usernames in the same emails:\n",
    "emails = '''\n",
    "Mor Haziza; 'mhaziza@iu.edu'\n",
    "Jay Z; JZ50@example.com\n",
    "Katy Perry; katy.perry01@kpstudio.org\n",
    "'''"
   ]
  },
  {
   "cell_type": "code",
   "execution_count": null,
   "metadata": {},
   "outputs": [],
   "source": [
    "m = re.findall(r'[\\w]+@', emails)\n",
    "m\n",
    "# need to revise to capture all the usernames..."
   ]
  },
  {
   "cell_type": "code",
   "execution_count": null,
   "metadata": {},
   "outputs": [],
   "source": [
    "m = re.findall(r'[\\w.]+@', emails)\n",
    "m"
   ]
  },
  {
   "cell_type": "markdown",
   "metadata": {},
   "source": [
    "## Example 6"
   ]
  },
  {
   "cell_type": "code",
   "execution_count": null,
   "metadata": {},
   "outputs": [],
   "source": [
    "# Capture the percent change in the DJ index:\n",
    "DJ = '''\n",
    "Dow Jones Industrial Average (^DJI)\n",
    "DJI - DJI Real Time Price. Currency in USD\n",
    "\n",
    "26,048.51  -14.17   (-0.05%)\n",
    "'''"
   ]
  },
  {
   "cell_type": "code",
   "execution_count": null,
   "metadata": {},
   "outputs": [],
   "source": [
    "m = re.search(r'[+-]\\d+\\.\\d+%', DJ)\n",
    "m"
   ]
  },
  {
   "cell_type": "code",
   "execution_count": null,
   "metadata": {},
   "outputs": [],
   "source": [
    "m.group(0)"
   ]
  },
  {
   "cell_type": "markdown",
   "metadata": {},
   "source": [
    "## Example 7"
   ]
  },
  {
   "cell_type": "code",
   "execution_count": null,
   "metadata": {},
   "outputs": [],
   "source": [
    "# Capture the names of all the people involved in publishing this book:\n",
    "text  = '''\n",
    "Python for Data Analysis\n",
    "by Wes McKinney Copyright © 2018 William McKinney. All rights reserved.\n",
    "Printed in the United States of America.\n",
    "Published by O’Reilly Media, Inc., 1005 Gravenstein Highway North,\n",
    "Sebastopol, CA 95472.\n",
    "O’Reilly books may be purchased for educational, business, or sales promotional\n",
    "use. Online editions are also available for most titles (http://oreilly.com/safari).\n",
    "For more information, contact our corporate/institutional sales department: 800-\n",
    "998-9938 or corporate@oreilly.com.\n",
    "Editor: Marie Beaugureau\n",
    "Production Editor: Kristen Brown\n",
    "Copyeditor: Jasmine Kwityn\n",
    "Proofreader: Rachel Monaghan\n",
    "Indexer: Lucie Haskins\n",
    "Interior Designer: David Futato\n",
    "Cover Designer: Karen Montgomery\n",
    "Illustrator: Rebecca Demarest\n",
    "October 2012: First Edition\n",
    "October 2017: Second Edition\n",
    "'''"
   ]
  },
  {
   "cell_type": "code",
   "execution_count": null,
   "metadata": {},
   "outputs": [],
   "source": [
    "m = re.findall(r':\\s\\w+ \\w+', text)\n",
    "m\n",
    "\n",
    "# The last two are not names... need to revise"
   ]
  },
  {
   "cell_type": "code",
   "execution_count": null,
   "metadata": {},
   "outputs": [],
   "source": [
    "m = re.findall(r'[^\\d]:\\s\\w+ \\w+', text)\n",
    "m"
   ]
  },
  {
   "cell_type": "markdown",
   "metadata": {},
   "source": [
    "### (…) Group for “capturing” a match"
   ]
  },
  {
   "cell_type": "markdown",
   "metadata": {},
   "source": [
    "We got the names, but also other text we don't need... \n",
    "use ( ) to capture the names within a group, as follows:"
   ]
  },
  {
   "cell_type": "code",
   "execution_count": null,
   "metadata": {},
   "outputs": [],
   "source": [
    "m = re.findall(r'[^\\d]:\\s(\\w+ \\w+)', text)\n",
    "m"
   ]
  },
  {
   "cell_type": "markdown",
   "metadata": {},
   "source": [
    "## Example 8"
   ]
  },
  {
   "cell_type": "code",
   "execution_count": null,
   "metadata": {},
   "outputs": [],
   "source": [
    "# Capture the page numbers in the following table of contents:\n",
    "\n",
    "Table_of_contents = '''\n",
    "1. Introduction...................................................................................................1\n",
    "2. Futures markets and central counterparties....................................................... 24\n",
    "3. Hedging strategies using futures ...................................................................... 49\n",
    "4. Interest rates ................................................................................................ 77\n",
    "5. Determination of forward and futures prices................................................... 107\n",
    "6. Interest rate futures ..................................................................................... 135\n",
    "7. Swaps ....................................................................................................... 155\n",
    "8. Securitization and the credit crisis of 2007 ...................................................... 184\n",
    "'''"
   ]
  },
  {
   "cell_type": "code",
   "execution_count": null,
   "metadata": {},
   "outputs": [],
   "source": [
    "m = re.findall(r'\\d+$', Table_of_contents)\n",
    "m\n",
    "\n",
    "# We captured numbers at the end of text only…\n",
    "# Need to revise: use MULTILINE flag for ‘$’ to include end of lines"
   ]
  },
  {
   "cell_type": "code",
   "execution_count": null,
   "metadata": {},
   "outputs": [],
   "source": [
    "m = re.findall(r'\\d+$', Table_of_contents, re.MULTILINE)\n",
    "m"
   ]
  },
  {
   "cell_type": "markdown",
   "metadata": {},
   "source": [
    "## Example 9"
   ]
  },
  {
   "cell_type": "code",
   "execution_count": null,
   "metadata": {},
   "outputs": [],
   "source": [
    "# Capture all instances of the word ‘wood’:\n",
    "WC_tongue_twister = 'How much wood would a woodchuck chuck if a woodchuck could chuck wood?'"
   ]
  },
  {
   "cell_type": "code",
   "execution_count": null,
   "metadata": {},
   "outputs": [],
   "source": [
    "m = re.search(r'\\bwood\\b', WC_tongue_twister)\n",
    "m"
   ]
  },
  {
   "cell_type": "code",
   "execution_count": null,
   "metadata": {},
   "outputs": [],
   "source": [
    "m = re.findall(r'\\bwood\\b', WC_tongue_twister)\n",
    "m"
   ]
  },
  {
   "cell_type": "code",
   "execution_count": null,
   "metadata": {},
   "outputs": [],
   "source": [
    "# Can replace the word wood with another word as follows:\n",
    "m = re.sub(r'\\bwood\\b', r'wooops', WC_tongue_twister)\n",
    "m"
   ]
  },
  {
   "cell_type": "markdown",
   "metadata": {},
   "source": [
    "# Greedy Vs Non-Greedy:"
   ]
  },
  {
   "cell_type": "code",
   "execution_count": null,
   "metadata": {},
   "outputs": [],
   "source": [
    "import re\n",
    "s = '<html><head><title>Title</title>'\n",
    "# len(s)\n",
    "print(re.match('<.*>',s).group(0))   \n",
    "# The '*' is greedy, the match continues with every character until the last '>'"
   ]
  },
  {
   "cell_type": "code",
   "execution_count": null,
   "metadata": {},
   "outputs": [],
   "source": [
    "print(re.match('<.*?>',s).group(0))  \n",
    "# The '?' makes '*' non-greedy. The match stoped at the first '>'"
   ]
  },
  {
   "cell_type": "markdown",
   "metadata": {},
   "source": [
    "# Working With Groups (...)"
   ]
  },
  {
   "cell_type": "markdown",
   "metadata": {},
   "source": [
    "## Example 1"
   ]
  },
  {
   "cell_type": "code",
   "execution_count": null,
   "metadata": {},
   "outputs": [],
   "source": [
    "m = re.match('(ab)c', 'abcde')\n",
    "m"
   ]
  },
  {
   "cell_type": "code",
   "execution_count": null,
   "metadata": {},
   "outputs": [],
   "source": [
    " m.group(0)"
   ]
  },
  {
   "cell_type": "code",
   "execution_count": null,
   "metadata": {},
   "outputs": [],
   "source": [
    "m.group(1)"
   ]
  },
  {
   "cell_type": "markdown",
   "metadata": {},
   "source": [
    "## Example 2"
   ]
  },
  {
   "cell_type": "code",
   "execution_count": null,
   "metadata": {},
   "outputs": [],
   "source": [
    "m = re.match('(a(b))c(de)', 'abcde')\n",
    "m\n",
    "# m.group(0) \n",
    "# m.group(1)\n",
    "# m.group(2)\n",
    "# m.group(3)\n",
    "# m.group(2,3,0,0,1)   # this returns a tuple\n",
    "# m.groups()           # this returns a tuple\n",
    "\n",
    "# # This is equivalent:\n",
    "# re.match('(a(b))c(de)', 'abcde').group(0)"
   ]
  }
 ],
 "metadata": {
  "kernelspec": {
   "display_name": "Python 3",
   "language": "python",
   "name": "python3"
  },
  "language_info": {
   "codemirror_mode": {
    "name": "ipython",
    "version": 3
   },
   "file_extension": ".py",
   "mimetype": "text/x-python",
   "name": "python",
   "nbconvert_exporter": "python",
   "pygments_lexer": "ipython3",
   "version": "3.7.1"
  }
 },
 "nbformat": 4,
 "nbformat_minor": 2
}
