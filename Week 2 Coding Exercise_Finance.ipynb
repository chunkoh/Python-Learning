{
 "cells": [
  {
   "cell_type": "markdown",
   "metadata": {},
   "source": [
    "# Coding Exercise - Week 2\n",
    "\n",
    "Write a block of code to compound interest based on input from a user.\n",
    "Compounding is the process of earning interest on principal as well as accumulated interest. The longer the duration of the investment, the greater is the potential for gaining from compounding, which makes it a very powerful tool in finance.\n",
    "\n",
    "<u>The formula is:</u> <br>\n",
    "<b>Formula: A = P * (1+r/n) ^ (nt)</b>\n",
    "\n",
    "| Variable | Description | Suggestion/Hint         \n",
    "| :- |:- | :-\n",
    "|A |amount after time t | compute this value based on formual above\n",
    "|P |principal amount | (your initial investment - ask user)\n",
    "|r |annual interest rate | ask for integer and then divide by 100 to get percentage rate\n",
    "|t |number of years |  ask user\n",
    "|n |number of times the interest is compounded per year |  ask user\n",
    "\n",
    "#### Suggestions\n",
    "1. Use input() to get user input. Use a proper prompt so the user knows what you are asking for\n",
    "1. Create 5 variables for each of the above values.  \n",
    "1. Add comments to help understand your code\n",
    "\n",
    "#### Example results of running your code:\n",
    "<pre>\n",
    "Please enter the principal: 1000\n",
    "Please enter the anual interest rate. (i.e. 8.5): 10\n",
    "Please enter the number of years: 2\n",
    "Please enter the number of times the interest is compounded per year: 2\n",
    "\n",
    "The final amount is:\n",
    "$1215.5062500000001\n",
    "</pre>"
   ]
  },
  {
   "cell_type": "code",
   "execution_count": 10,
   "metadata": {},
   "outputs": [
    {
     "name": "stdout",
     "output_type": "stream",
     "text": [
      "Please enter the principal amount: 1000\n",
      "Please enter the interest rate: Example: 8 for 8%  10\n",
      "Please enter the number of years: 2\n",
      "Please enter the number of times the interest compounded per year: 2\n",
      "The final amount is : 1215.5062500000001\n"
     ]
    }
   ],
   "source": [
    "principle_amt = int(input(\"Please enter the principal amount: \"))\n",
    "principle_r   = int(input(\"Please enter the interest rate: Example: 8 for 8%  \"))/100\n",
    "principle_n   = int(input(\"Please enter the number of years: \"))\n",
    "principle_t   = int(input(\"Please enter the number of times the interest compounded per year: \"))\n",
    "principle_value = principle_amt * ((1+principle_r/principle_n)**(principle_n*principle_t))\n",
    "\n",
    "    \n",
    "print(\"The final amount is :\" , principle_value)\n"
   ]
  }
 ],
 "metadata": {
  "kernelspec": {
   "display_name": "Python 3",
   "language": "python",
   "name": "python3"
  },
  "language_info": {
   "codemirror_mode": {
    "name": "ipython",
    "version": 3
   },
   "file_extension": ".py",
   "mimetype": "text/x-python",
   "name": "python",
   "nbconvert_exporter": "python",
   "pygments_lexer": "ipython3",
   "version": "3.8.5"
  }
 },
 "nbformat": 4,
 "nbformat_minor": 4
}
