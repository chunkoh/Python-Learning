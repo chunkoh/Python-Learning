{
 "cells": [
  {
   "cell_type": "markdown",
   "metadata": {},
   "source": [
    "# Import NUMPY Library/Module"
   ]
  },
  {
   "cell_type": "code",
   "execution_count": 1,
   "metadata": {},
   "outputs": [],
   "source": [
    "import numpy as np\n",
    "#Create a list of names\n",
    "names = [\n",
    "            \"Bill\", \n",
    "            \"Larry\", \n",
    "            \"Sally\", \n",
    "            \"May\"\n",
    "        ]\n",
    "#Make a copy of the list of names but make it a NumPy array this time\n",
    "np_names = np.array(names)\n",
    "\n",
    "#Do something similar for a list of ages\n",
    "ages = [\n",
    "            22, \n",
    "            33, \n",
    "            44, \n",
    "            55\n",
    "        ]\n",
    "np_ages = np.array(ages)"
   ]
  },
  {
   "cell_type": "markdown",
   "metadata": {},
   "source": [
    "# Filtering NumPy Arrays. Two very different options.\n",
    "#### # Option 1: Learned in NumPy.ipynb file"
   ]
  },
  {
   "cell_type": "code",
   "execution_count": 2,
   "metadata": {},
   "outputs": [
    {
     "name": "stdout",
     "output_type": "stream",
     "text": [
      "[44, 55]\n"
     ]
    }
   ],
   "source": [
    "filteredAges = ages[2:]  # Get the values in the \"ages\" NumPy array starting at INDEX 2 and go to the end of the array\n",
    "                         # Please these files into a new NumPy array called \"filteredAges\"\n",
    "\n",
    "#Print the two ages we sliced from the original NumPy array\n",
    "print(filteredAges)"
   ]
  },
  {
   "cell_type": "markdown",
   "metadata": {},
   "source": [
    "#### Option 2: Use boolean values in an array to filter another array (parallel arrays)"
   ]
  },
  {
   "cell_type": "code",
   "execution_count": 3,
   "metadata": {},
   "outputs": [
    {
     "name": "stdout",
     "output_type": "stream",
     "text": [
      "[44 55]\n"
     ]
    }
   ],
   "source": [
    "# Step 1: Create a new list with the same number of values as the list you would like to filter.\n",
    "#         Use True or False to indicate if you want to keep the corresponding value in the orginal array\n",
    "KeepOrNotKeep = [\n",
    "                    False,   #Don't Keep first age  (22)\n",
    "                    False,   #Don't Keep second age (33)\n",
    "                    True,    #Keep third age        (44)\n",
    "                    True     #Keep fourth age       (55)\n",
    "                 ]    \n",
    "# Step 2: Create a new NumPy array that only contains the values that you wanted to keep\n",
    "#         Indicate which values that you want to keep by placing the True/False list inside \n",
    "filteredAges2 = np_ages[ KeepOrNotKeep]\n",
    "# Another way that I could have written the line above...\n",
    "#                           22 ,   33 ,   44,  55\n",
    "filteredAges2 = np_ages[ [False, False, True, True] ] # I place the True/False list directly into the []\n",
    "# This new way of filterin ghas the equivalent outcome of the cell above when using \n",
    "# filteredAges = ages[2:] \n",
    "\n",
    "print(filteredAges2)"
   ]
  },
  {
   "cell_type": "markdown",
   "metadata": {},
   "source": [
    "# So why go to the trouble of learning this new option?"
   ]
  },
  {
   "cell_type": "markdown",
   "metadata": {},
   "source": [
    "### The names in the python array called np_names who are older than 40 can be determined by using a parallel array called np_ages:"
   ]
  },
  {
   "cell_type": "code",
   "execution_count": 4,
   "metadata": {},
   "outputs": [
    {
     "name": "stdout",
     "output_type": "stream",
     "text": [
      "[False False  True  True]\n"
     ]
    }
   ],
   "source": [
    "# We already have an array called np_ages\n",
    "# np_ages = [22 33 44 55]\n",
    "\n",
    "# I want to create a new array called over40 that contains True/False values\n",
    "# that correspond to whether each age is over 40\n",
    "\n",
    "over40 = np_ages > 40  #Create over40 NumPy array with True/False values\n",
    "print(over40)\n",
    "\n",
    "#This code produces the folling NumPy array\n",
    "# [False False  True  True]\n",
    "#    22    33    44    55   Success!!!!  I have true/false values that match the ages being over 40 or not"
   ]
  },
  {
   "cell_type": "markdown",
   "metadata": {},
   "source": [
    "### Let's to the above cell's knowledge to get the names of the people over 40"
   ]
  },
  {
   "cell_type": "code",
   "execution_count": 5,
   "metadata": {},
   "outputs": [
    {
     "name": "stdout",
     "output_type": "stream",
     "text": [
      "['Sally' 'May']\n"
     ]
    }
   ],
   "source": [
    "\n",
    "# np_names = [\"Bill\" \"Larry\" \"Sally\" \"May\" ]\n",
    "# np_ages = [   22     33      44     55   ]\n",
    "\n",
    "# Filter np_names by using the np_ages array but after you convert \n",
    "# np_ages to be True/False based on whether the person is over 40 or not\n",
    "namesOfPeopleOver40 = np_names[np_ages > 40]\n",
    "print(namesOfPeopleOver40)\n",
    "\n",
    "#Similar to the logic\n",
    "# namesOfPeopleOver40 = np_names[False False True True]\n",
    "# or\n",
    "# namesOfPeopleOver40 = np_names[2:4]"
   ]
  },
  {
   "cell_type": "markdown",
   "metadata": {},
   "source": [
    "# MERGE ARRAYS (two 1-column arrays into 1 two-column array)\n",
    "### THEN PLACE THE TWO SEPARATE ARRAYS INTO A SINGLE 2D ARRAY"
   ]
  },
  {
   "cell_type": "code",
   "execution_count": 6,
   "metadata": {},
   "outputs": [
    {
     "name": "stdout",
     "output_type": "stream",
     "text": [
      "[[ 1.39 67.9 ]\n",
      " [ 1.34 55.13]\n",
      " [ 2.04 69.34]\n",
      " ...\n",
      " [ 1.55 36.34]\n",
      " [ 1.67 55.83]\n",
      " [ 2.01 70.14]]\n"
     ]
    }
   ],
   "source": [
    "#1. Create an array of 5000 heights that average 1.75 with a standard deviation of .5\n",
    "height = np.random.normal(1.75, 0.20, 5000)\n",
    "#2. Round each of those numbers to two decimals\n",
    "height = np.round(height,2)\n",
    "\n",
    "#3. Create an array of 5000 weights that average 60 with a standard deviation of 15\n",
    "# and round it to two decimals using one statement instead of two\n",
    "weight = np.round(np.random.normal(60, 15, 5000),2)\n",
    "\n",
    "#4. Use np.column_stack(Array1, Array2) to combine the two 1-column arrays into a single 2-column array\n",
    "np_city = np.column_stack((height, weight))\n",
    "print(np_city)"
   ]
  },
  {
   "cell_type": "markdown",
   "metadata": {},
   "source": [
    "### CREATE A TEMP AND TIME NUMPY ARRAY AND MERGE THEM INTO A SINGLE 2D ARRAY"
   ]
  },
  {
   "cell_type": "code",
   "execution_count": 7,
   "metadata": {},
   "outputs": [],
   "source": [
    "#1. Create two NumPy arrays containing time and temperature\n",
    "temp = np.round(np.random.normal(74, 0.20, 5000),2)\n",
    "time = np.round(np.random.normal(34, 15, 5000),2)\n",
    "\n",
    "#2. Use np.column_stack(Array1, Array2) to combine the two 1-column arrays into a single 2-column array\n",
    "timetemp = np.column_stack((temp, time))"
   ]
  },
  {
   "cell_type": "code",
   "execution_count": 8,
   "metadata": {},
   "outputs": [
    {
     "name": "stdout",
     "output_type": "stream",
     "text": [
      "[74.28 73.95 74.17 ... 73.84 74.11 73.51]\n"
     ]
    }
   ],
   "source": [
    "print(temp)"
   ]
  },
  {
   "cell_type": "code",
   "execution_count": 9,
   "metadata": {},
   "outputs": [
    {
     "name": "stdout",
     "output_type": "stream",
     "text": [
      "[35.62 18.36 45.55 ... 36.04 26.07 25.4 ]\n"
     ]
    }
   ],
   "source": [
    "print(time)"
   ]
  },
  {
   "cell_type": "markdown",
   "metadata": {},
   "source": [
    "### PRINT ENTIRE NUMPY ARRAY"
   ]
  },
  {
   "cell_type": "code",
   "execution_count": 10,
   "metadata": {},
   "outputs": [
    {
     "name": "stdout",
     "output_type": "stream",
     "text": [
      "Printing full 'timetemp' array\n",
      "------------------------------\n",
      "[[74.28 35.62]\n",
      " [73.95 18.36]\n",
      " [74.17 45.55]\n",
      " ...\n",
      " [73.84 36.04]\n",
      " [74.11 26.07]\n",
      " [73.51 25.4 ]]\n"
     ]
    }
   ],
   "source": [
    "print(\"Printing full 'timetemp' array\")\n",
    "print(\"-\" * 30)\n",
    "print(timetemp)"
   ]
  }
 ],
 "metadata": {
  "kernelspec": {
   "display_name": "Python 3",
   "language": "python",
   "name": "python3"
  },
  "language_info": {
   "codemirror_mode": {
    "name": "ipython",
    "version": 3
   },
   "file_extension": ".py",
   "mimetype": "text/x-python",
   "name": "python",
   "nbconvert_exporter": "python",
   "pygments_lexer": "ipython3",
   "version": "3.8.5"
  }
 },
 "nbformat": 4,
 "nbformat_minor": 2
}
