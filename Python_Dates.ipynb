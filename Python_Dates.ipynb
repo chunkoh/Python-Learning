{
 "cells": [
  {
   "cell_type": "markdown",
   "metadata": {},
   "source": [
    "# Date"
   ]
  },
  {
   "cell_type": "markdown",
   "metadata": {},
   "source": [
    "### Import Date Libraries"
   ]
  },
  {
   "cell_type": "code",
   "execution_count": 1,
   "metadata": {},
   "outputs": [],
   "source": [
    "#Import Date Libraries\n",
    "# import datetime  #import datetime imports everything datetime. Kind of akward to work with\n",
    "# OR #\n",
    "from datetime import date     #Importing individual modules within the datetime library makes is easier to wrok with\n",
    "from datetime import time     #Importing individual modules within the datetime library makes is easier to wrok with\n",
    "from datetime import datetime #Importing individual modules within the datetime library makes is easier to wrok with\n"
   ]
  },
  {
   "cell_type": "markdown",
   "metadata": {},
   "source": [
    "### Create date and datetime objects"
   ]
  },
  {
   "cell_type": "code",
   "execution_count": 2,
   "metadata": {},
   "outputs": [
    {
     "name": "stdout",
     "output_type": "stream",
     "text": [
      "2021-02-28\n",
      "\n"
     ]
    }
   ],
   "source": [
    "invoice_date = date.today()\t                    # Current date\n",
    "print(invoice_date)\n",
    "print()"
   ]
  },
  {
   "cell_type": "code",
   "execution_count": 3,
   "metadata": {},
   "outputs": [
    {
     "name": "stdout",
     "output_type": "stream",
     "text": [
      "2021-02-28 18:50:15.474236\n",
      "\n"
     ]
    }
   ],
   "source": [
    "# If you used \n",
    "# from datetime import datetime \n",
    "# then you use...\n",
    "invoice_date = datetime.now()                   # Current date and time\n",
    "print(invoice_date)\n",
    "print()"
   ]
  },
  {
   "cell_type": "code",
   "execution_count": 4,
   "metadata": {},
   "outputs": [],
   "source": [
    "# If you used \n",
    "# import datetime \n",
    "# then you use...\n",
    "#invoice_date = datetime.datetime.now()         # NOTICE the \"extra\" datetime. Current date and time\n",
    "#print(invoice_date)\n",
    "#print()"
   ]
  },
  {
   "cell_type": "code",
   "execution_count": 5,
   "metadata": {},
   "outputs": [
    {
     "name": "stdout",
     "output_type": "stream",
     "text": [
      "1988-01-03\n",
      "\n"
     ]
    }
   ],
   "source": [
    "# If you used \n",
    "# from datetime import date \n",
    "# then you use...\n",
    "New_Years_Day = date(1988, 1, 3)                # 1/1/1988\n",
    "print(New_Years_Day)\n",
    "print()"
   ]
  },
  {
   "cell_type": "code",
   "execution_count": 6,
   "metadata": {},
   "outputs": [],
   "source": [
    "# If you used \n",
    "# import datetime \n",
    "# then you use...\n",
    "#New_Years_Day = datetime.date(1988, 1, 3)      #  NOTICE the \"extra\" datetime.  1/1/1988\n",
    "#print(New_Years_Day)\n",
    "#print()"
   ]
  },
  {
   "cell_type": "code",
   "execution_count": 7,
   "metadata": {},
   "outputs": [
    {
     "name": "stdout",
     "output_type": "stream",
     "text": [
      "14:30:00\n",
      "\n"
     ]
    }
   ],
   "source": [
    "meeting = time(14, 30)                          # 2:30 PM\n",
    "print(meeting)\n",
    "print()"
   ]
  },
  {
   "cell_type": "code",
   "execution_count": 8,
   "metadata": {},
   "outputs": [
    {
     "name": "stdout",
     "output_type": "stream",
     "text": [
      "2020-10-28 14:30:00\n",
      "\n"
     ]
    }
   ],
   "source": [
    "appointment = datetime(2020, 10, 28, 14, 30)    # 10/28/2020 2:30 PM\n",
    "print(appointment)\n",
    "print()"
   ]
  },
  {
   "cell_type": "code",
   "execution_count": 9,
   "metadata": {},
   "outputs": [
    {
     "name": "stdout",
     "output_type": "stream",
     "text": [
      "2020-10-28 14:32:48\n",
      "\n"
     ]
    }
   ],
   "source": [
    "entry_time = datetime(2020, 10, 28, 14, 32, 48) # 10/28/2017 2:32:48 PM\n",
    "print(entry_time)\n",
    "print()"
   ]
  },
  {
   "cell_type": "markdown",
   "metadata": {},
   "source": [
    "### Get a date using strptime()"
   ]
  },
  {
   "cell_type": "code",
   "execution_count": 10,
   "metadata": {},
   "outputs": [
    {
     "name": "stdout",
     "output_type": "stream",
     "text": [
      "1988-01-01 00:00:00\n",
      "\n"
     ]
    }
   ],
   "source": [
    "# datetime.strptime(datetime_str, format_str)\n",
    "\n",
    "NYear = datetime.strptime(\"1/1/1988\", \"%m/%d/%Y\")\n",
    "print(NYear)\n",
    "print()"
   ]
  },
  {
   "cell_type": "code",
   "execution_count": 11,
   "metadata": {},
   "outputs": [
    {
     "name": "stdout",
     "output_type": "stream",
     "text": [
      "1988-01-01 00:00:00\n",
      "\n"
     ]
    }
   ],
   "source": [
    "NYear = datetime.strptime(\"1-1-1988\", \"%d-%m-%Y\")\n",
    "print(NYear)\n",
    "print()"
   ]
  },
  {
   "cell_type": "code",
   "execution_count": 12,
   "metadata": {},
   "outputs": [
    {
     "name": "stdout",
     "output_type": "stream",
     "text": [
      "1988-01-01 00:00:00\n",
      "\n"
     ]
    }
   ],
   "source": [
    "NYear = datetime.strptime(\"1988-1-1\", \"%Y-%m-%d\")\n",
    "print(NYear)\n",
    "print()"
   ]
  },
  {
   "cell_type": "code",
   "execution_count": 13,
   "metadata": {},
   "outputs": [
    {
     "name": "stdout",
     "output_type": "stream",
     "text": [
      "1988-01-01 13:00:00\n",
      "\n"
     ]
    }
   ],
   "source": [
    "NYear1PM = datetime.strptime(\"1/1/1988 13:00\", \"%m/%d/%Y %H:%M\")\n",
    "print(NYear1PM)\n",
    "print()"
   ]
  },
  {
   "cell_type": "markdown",
   "metadata": {},
   "source": [
    "### Display/Print a date using strftime()"
   ]
  },
  {
   "cell_type": "code",
   "execution_count": 14,
   "metadata": {},
   "outputs": [
    {
     "name": "stdout",
     "output_type": "stream",
     "text": [
      "1988-02-14\n",
      "\n"
     ]
    }
   ],
   "source": [
    "valDay = datetime(1988, 2, 14, 22, 48)\n",
    "\n",
    "ST = valDay.strftime(\"%Y-%m-%d\")        \t# 1988-2-14\n",
    "print(ST)\n",
    "print()"
   ]
  },
  {
   "cell_type": "code",
   "execution_count": 15,
   "metadata": {},
   "outputs": [
    {
     "name": "stdout",
     "output_type": "stream",
     "text": [
      "02/14/1988\n",
      "\n"
     ]
    }
   ],
   "source": [
    "ST = valDay.strftime(\"%m/%d/%Y\")        \t# 02/14/1988\n",
    "print(ST)\n",
    "print()"
   ]
  },
  {
   "cell_type": "code",
   "execution_count": 16,
   "metadata": {},
   "outputs": [
    {
     "name": "stdout",
     "output_type": "stream",
     "text": [
      "02/14/88\n",
      "\n"
     ]
    }
   ],
   "source": [
    "ST = valDay.strftime(\"%m/%d/%y\")        \t# 02/14/88\n",
    "print(ST)\n",
    "print()"
   ]
  },
  {
   "cell_type": "code",
   "execution_count": 17,
   "metadata": {},
   "outputs": [
    {
     "name": "stdout",
     "output_type": "stream",
     "text": [
      "February 14, 1988 (Sunday)\n",
      "\n"
     ]
    }
   ],
   "source": [
    "ST = valDay.strftime(\"%B %d, %Y (%A)\")  \t# February 14, 1988 (Sunday)\n",
    "print(ST)\n",
    "print()"
   ]
  },
  {
   "cell_type": "code",
   "execution_count": 18,
   "metadata": {},
   "outputs": [
    {
     "name": "stdout",
     "output_type": "stream",
     "text": [
      "February 14, 22:48\n",
      "\n"
     ]
    }
   ],
   "source": [
    "ST = valDay.strftime(\"%B %d, %H:%M\")    \t# February 14, 22:48\n",
    "print(ST)\n",
    "print()"
   ]
  },
  {
   "cell_type": "code",
   "execution_count": 19,
   "metadata": {},
   "outputs": [
    {
     "name": "stdout",
     "output_type": "stream",
     "text": [
      "February 14, 10:48 PM\n",
      "\n"
     ]
    }
   ],
   "source": [
    "ST = valDay.strftime(\"%B %d, %I:%M %p\")\t# February 14, 10:48 PM\n",
    "print(ST)\n",
    "print()"
   ]
  },
  {
   "cell_type": "code",
   "execution_count": 20,
   "metadata": {},
   "outputs": [
    {
     "name": "stdout",
     "output_type": "stream",
     "text": [
      "Sun Feb 14 22:48:00 1988\n",
      "\n"
     ]
    }
   ],
   "source": [
    "# Code that formats for locale\n",
    "ST = valDay.strftime(\"%c\")              \t\t# Mon Feb 14 22:48:00 1988\n",
    "print(ST)\n",
    "print()"
   ]
  },
  {
   "cell_type": "code",
   "execution_count": 21,
   "metadata": {},
   "outputs": [
    {
     "name": "stdout",
     "output_type": "stream",
     "text": [
      "02/14/88\n",
      "\n"
     ]
    }
   ],
   "source": [
    "ST = valDay.strftime(\"%x\")              \t\t# 02/14/88\n",
    "print(ST)\n",
    "print()"
   ]
  },
  {
   "cell_type": "markdown",
   "metadata": {},
   "source": [
    "### timedelta object (TimeSpan --> Date Difference)"
   ]
  },
  {
   "cell_type": "code",
   "execution_count": 22,
   "metadata": {},
   "outputs": [
    {
     "name": "stdout",
     "output_type": "stream",
     "text": [
      "17 days, 8:14:00\n",
      "\n"
     ]
    }
   ],
   "source": [
    "# IMPORT the timespan library\n",
    "from datetime import timedelta\n",
    "\n",
    "three_weeks = timedelta(weeks=3)\n",
    "two_hours_thirty_minues = timedelta(hours=2, minutes=30)\n",
    "time_span = timedelta(weeks=2, days=3, hours=8, minutes=14)\n",
    "print(time_span)\n",
    "print()"
   ]
  },
  {
   "cell_type": "code",
   "execution_count": 23,
   "metadata": {},
   "outputs": [
    {
     "name": "stdout",
     "output_type": "stream",
     "text": [
      "2021-02-28 21:50:15.579991\n"
     ]
    }
   ],
   "source": [
    "three_weeks_from_today = date.today() + timedelta(weeks=3)\n",
    "three_weeks_ago = date.today() - timedelta(weeks=3)\n",
    "three_hours_from_now = datetime.now() + timedelta(hours=3)\n",
    "print(three_hours_from_now)"
   ]
  },
  {
   "cell_type": "markdown",
   "metadata": {},
   "source": [
    "### timedelta examples…"
   ]
  },
  {
   "cell_type": "code",
   "execution_count": 24,
   "metadata": {},
   "outputs": [
    {
     "name": "stdout",
     "output_type": "stream",
     "text": [
      "-12069 days 18584 seconds, and 414061 microseconds.\n"
     ]
    }
   ],
   "source": [
    "valDay = datetime(1988, 2, 14)\n",
    "time_span = valDay - datetime.now()             # Span between dates\n",
    "\n",
    "days = time_span.days                           # Days\n",
    "seconds = time_span.seconds                     # Seconds (NOT INCLUDING DAYS)\n",
    "microseconds = time_span.microseconds           # Microseconds\n",
    "total_seconds = time_span.total_seconds()       # Seconds.microseconds\n",
    "\n",
    "print(days, \"days\", seconds, \"seconds, and\", microseconds, \"microseconds.\")"
   ]
  },
  {
   "cell_type": "code",
   "execution_count": 25,
   "metadata": {},
   "outputs": [
    {
     "name": "stdout",
     "output_type": "stream",
     "text": [
      "-1042743015.585939 seconds and microseconds.\n"
     ]
    }
   ],
   "source": [
    "\n",
    "print(total_seconds, \"seconds and microseconds.\")"
   ]
  },
  {
   "cell_type": "code",
   "execution_count": 26,
   "metadata": {},
   "outputs": [
    {
     "name": "stdout",
     "output_type": "stream",
     "text": [
      "\n",
      "-12069\n"
     ]
    }
   ],
   "source": [
    "print()\n",
    "days = (valDay - datetime.now()).days     # Number of days\n",
    "print(days)"
   ]
  },
  {
   "cell_type": "code",
   "execution_count": 27,
   "metadata": {},
   "outputs": [
    {
     "name": "stdout",
     "output_type": "stream",
     "text": [
      "1988\n",
      "\n"
     ]
    }
   ],
   "source": [
    "valDay = datetime(1988, 2, 14, 15, 32, 30)\n",
    "\n",
    "year = valDay.year                   # 1988\n",
    "print(year)\n",
    "print()"
   ]
  },
  {
   "cell_type": "code",
   "execution_count": 28,
   "metadata": {},
   "outputs": [
    {
     "name": "stdout",
     "output_type": "stream",
     "text": [
      "2\n",
      "\n"
     ]
    }
   ],
   "source": [
    "month = valDay.month                 # 02\n",
    "print(month)\n",
    "print()"
   ]
  },
  {
   "cell_type": "code",
   "execution_count": 29,
   "metadata": {},
   "outputs": [
    {
     "name": "stdout",
     "output_type": "stream",
     "text": [
      "14\n",
      "\n"
     ]
    }
   ],
   "source": [
    "day = valDay.day                     # 14\n",
    "print(day)\n",
    "print()"
   ]
  },
  {
   "cell_type": "code",
   "execution_count": 30,
   "metadata": {},
   "outputs": [
    {
     "name": "stdout",
     "output_type": "stream",
     "text": [
      "15\n",
      "\n"
     ]
    }
   ],
   "source": [
    "hour = valDay.hour                   # 15\n",
    "print(hour)\n",
    "print()"
   ]
  },
  {
   "cell_type": "code",
   "execution_count": 31,
   "metadata": {},
   "outputs": [
    {
     "name": "stdout",
     "output_type": "stream",
     "text": [
      "32\n",
      "\n"
     ]
    }
   ],
   "source": [
    "minute = valDay.minute               # 32\n",
    "print(minute)\n",
    "print()"
   ]
  },
  {
   "cell_type": "code",
   "execution_count": 32,
   "metadata": {},
   "outputs": [
    {
     "name": "stdout",
     "output_type": "stream",
     "text": [
      "30\n",
      "\n"
     ]
    }
   ],
   "source": [
    "second = valDay.second               # 30\n",
    "print(second)\n",
    "print()"
   ]
  },
  {
   "cell_type": "code",
   "execution_count": 33,
   "metadata": {},
   "outputs": [
    {
     "name": "stdout",
     "output_type": "stream",
     "text": [
      "0\n",
      "\n"
     ]
    }
   ],
   "source": [
    "microsecond = valDay.microsecond     # 0\n",
    "print(microsecond)\n",
    "print()"
   ]
  },
  {
   "cell_type": "markdown",
   "metadata": {},
   "source": [
    "### Check parts of a date object"
   ]
  },
  {
   "cell_type": "code",
   "execution_count": 34,
   "metadata": {},
   "outputs": [
    {
     "name": "stdout",
     "output_type": "stream",
     "text": [
      "Dang, it's not Valentine’s today.\n"
     ]
    }
   ],
   "source": [
    "today = date.today()\n",
    "if (today.month == 2 and today.day == 14):\n",
    "    print(\"Happy Valentine’s!\")\n",
    "else:\n",
    "    print(\"Dang, it's not Valentine’s today.\")\n"
   ]
  },
  {
   "cell_type": "markdown",
   "metadata": {},
   "source": [
    "### Create new date using current date"
   ]
  },
  {
   "cell_type": "code",
   "execution_count": 35,
   "metadata": {},
   "outputs": [
    {
     "name": "stdout",
     "output_type": "stream",
     "text": [
      "2020-02-28\n",
      "\n"
     ]
    }
   ],
   "source": [
    "today = date.today()\n",
    "last_year = today.year - 1\n",
    "one_year_ago_today = date(last_year, today.month, today.day)\n",
    "print(one_year_ago_today)\n",
    "print()"
   ]
  },
  {
   "cell_type": "code",
   "execution_count": 36,
   "metadata": {},
   "outputs": [
    {
     "name": "stdout",
     "output_type": "stream",
     "text": [
      "2022-02-28 18:50:00\n"
     ]
    }
   ],
   "source": [
    "#Code that creates a new date and time based on the current date and time\n",
    "now = datetime.now()\n",
    "this_time_next_year = datetime(now.year + 1, now.month, now.day, now.hour, now.minute)\n",
    "print(this_time_next_year)"
   ]
  },
  {
   "cell_type": "markdown",
   "metadata": {},
   "source": [
    "### Code that compares two date objects"
   ]
  },
  {
   "cell_type": "code",
   "execution_count": 37,
   "metadata": {},
   "outputs": [
    {
     "name": "stdout",
     "output_type": "stream",
     "text": [
      "Valentine’s 2017 has come and gone.\n"
     ]
    }
   ],
   "source": [
    "today = date.today()\n",
    "valDay = date(2017, 2, 14)\n",
    "\n",
    "if today > valDay :\n",
    "    print(\"Valentine’s 2017 has come and gone.\")\n",
    "elif today < valDay :\n",
    "    print(\"Valentine’s 2017 is coming soon.\")\n",
    "elif today == valDay :\n",
    "    print(\"Happy Valentine’s 2017!\")\n"
   ]
  },
  {
   "cell_type": "markdown",
   "metadata": {},
   "source": [
    "### Code that prints the number \u000b",
    "of days until Valentine’s"
   ]
  },
  {
   "cell_type": "code",
   "execution_count": 38,
   "metadata": {},
   "outputs": [
    {
     "name": "stdout",
     "output_type": "stream",
     "text": [
      "-14 day(s) until Valentine’s.\n"
     ]
    }
   ],
   "source": [
    "today = date.today()\n",
    "valDay = date(today.year, 2, 14)\n",
    "\n",
    "if today > valDay :\n",
    "    next_year = today.year + 1\n",
    "    halloween = date(next_year, 10, 31)\n",
    "days_until = (valDay - today).days\n",
    "print(days_until, \"day(s) until Valentine’s.\")\n"
   ]
  },
  {
   "cell_type": "markdown",
   "metadata": {},
   "source": [
    "### Code that compares two datetime objects"
   ]
  },
  {
   "cell_type": "code",
   "execution_count": 39,
   "metadata": {},
   "outputs": [
    {
     "name": "stdout",
     "output_type": "stream",
     "text": [
      "This meeting already took place.\n"
     ]
    }
   ],
   "source": [
    "meeting_start = datetime(2017, 12, 2, 9, 30)\n",
    "meeting_end = meeting_start + timedelta(hours=1)\n",
    "now = datetime.now()\n",
    "\n",
    "if now > meeting_start and now < meeting_end:\n",
    "    print(\"This meeting is happening now.\")\n",
    "elif now < meeting_start:\n",
    "    print(\"This meeting is coming up.\")\n",
    "elif now > meeting_end:\n",
    "    print(\"This meeting already took place.\")\n"
   ]
  },
  {
   "cell_type": "code",
   "execution_count": null,
   "metadata": {},
   "outputs": [],
   "source": []
  }
 ],
 "metadata": {
  "kernelspec": {
   "display_name": "Python 3",
   "language": "python",
   "name": "python3"
  },
  "language_info": {
   "codemirror_mode": {
    "name": "ipython",
    "version": 3
   },
   "file_extension": ".py",
   "mimetype": "text/x-python",
   "name": "python",
   "nbconvert_exporter": "python",
   "pygments_lexer": "ipython3",
   "version": "3.8.5"
  }
 },
 "nbformat": 4,
 "nbformat_minor": 4
}
