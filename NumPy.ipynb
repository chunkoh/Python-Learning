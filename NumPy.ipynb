{
 "cells": [
  {
   "cell_type": "markdown",
   "metadata": {},
   "source": [
    "# NUMPY"
   ]
  },
  {
   "cell_type": "markdown",
   "metadata": {},
   "source": [
    "## LISTS\n",
    "### One-deminsional LIST (one column)"
   ]
  },
  {
   "cell_type": "code",
   "execution_count": 1,
   "metadata": {},
   "outputs": [
    {
     "name": "stdout",
     "output_type": "stream",
     "text": [
      "[5, 7]\n",
      "\n"
     ]
    }
   ],
   "source": [
    "a = [1, 3, 5, 7, 9]\n",
    "print(a[2:4])\n",
    "print()"
   ]
  },
  {
   "cell_type": "markdown",
   "metadata": {},
   "source": [
    "### Two-deminsional LIST (two columns)"
   ]
  },
  {
   "cell_type": "code",
   "execution_count": 2,
   "metadata": {},
   "outputs": [],
   "source": [
    "# b = [[1, 3, 5, 7, 9],[2, 4, 6, 8, 10]]\n",
    "b = [\n",
    "     [1, 3, 5, 7, 9], #ROW 1\n",
    "     [2, 4, 6, 8, 10] #ROW 2\n",
    "    ]"
   ]
  },
  {
   "cell_type": "markdown",
   "metadata": {},
   "source": [
    "### Print ROW 1"
   ]
  },
  {
   "cell_type": "code",
   "execution_count": 3,
   "metadata": {},
   "outputs": [
    {
     "name": "stdout",
     "output_type": "stream",
     "text": [
      "[1, 3, 5, 7, 9]\n",
      "\n"
     ]
    }
   ],
   "source": [
    "print(b[0])\n",
    "print()"
   ]
  },
  {
   "cell_type": "markdown",
   "metadata": {},
   "source": [
    "### From LIST B print the value found at the intersection of\n",
    "### ROW 2 (index 1) : COLUMN 3 (index 2)"
   ]
  },
  {
   "cell_type": "code",
   "execution_count": 4,
   "metadata": {},
   "outputs": [
    {
     "name": "stdout",
     "output_type": "stream",
     "text": [
      "6\n"
     ]
    }
   ],
   "source": [
    "print(b[1][2])"
   ]
  },
  {
   "cell_type": "markdown",
   "metadata": {},
   "source": [
    "### Math with LISTS (basically does not work)"
   ]
  },
  {
   "cell_type": "code",
   "execution_count": 5,
   "metadata": {},
   "outputs": [
    {
     "name": "stdout",
     "output_type": "stream",
     "text": [
      "Appending two lists...\n",
      "[1, 3, 5, 7, 9, 2, 4, 6, 8, 10]\n",
      "\n"
     ]
    }
   ],
   "source": [
    "a = [1, 3, 5, 7, 9]\n",
    "b = [2, 4, 6, 8, 10]\n",
    "\n",
    "print(\"Appending two lists...\")\n",
    "c = a + b  #Append NOT add\n",
    "print(c)\n",
    "print()\n",
    "\n",
    "#Math did not work. "
   ]
  },
  {
   "cell_type": "markdown",
   "metadata": {},
   "source": [
    "### How could we do it then?  What is the \"work-around\""
   ]
  },
  {
   "cell_type": "code",
   "execution_count": 6,
   "metadata": {},
   "outputs": [
    {
     "name": "stdout",
     "output_type": "stream",
     "text": [
      "Adding to lists together...\n",
      "[3, 7, 11, 15, 19]\n"
     ]
    }
   ],
   "source": [
    "#LOOPS!!!!\n",
    "print(\"Adding to lists together...\")\n",
    "#Here is one option...\n",
    "#Create an empty LIST\n",
    "c = []\n",
    "\n",
    "#Loop through each value in the list\n",
    "for i in range(len(a)):\n",
    "    # Append the sum of a & b to the list c\n",
    "    c.append(a[i] + b[i])\n",
    "\n",
    "#Did it work?    \n",
    "print(c)"
   ]
  },
  {
   "cell_type": "markdown",
   "metadata": {},
   "source": [
    "## Why <font color=\"red\">NUMPY</font> is better:"
   ]
  },
  {
   "cell_type": "markdown",
   "metadata": {},
   "source": [
    "### Math with NUMPY"
   ]
  },
  {
   "cell_type": "code",
   "execution_count": 4,
   "metadata": {},
   "outputs": [
    {
     "name": "stdout",
     "output_type": "stream",
     "text": [
      "[ 3  7 11 15 19]\n"
     ]
    }
   ],
   "source": [
    "#IMPORT NUMPY since it is not part of base python\n",
    "import numpy as np\n",
    "\n",
    "# Make NUMPY arrays out of two LISTS\n",
    "a = np.array([1, 3, 5, 7, 9])\n",
    "b = np.array([2, 4, 6, 8, 10])\n",
    "\n",
    "# ADD two NUMPY arrays\n",
    "c = a + b\n",
    "\n",
    "#Did it work?\n",
    "print(c)"
   ]
  },
  {
   "cell_type": "markdown",
   "metadata": {},
   "source": [
    "### Creating NUMPY arrays..."
   ]
  },
  {
   "cell_type": "code",
   "execution_count": 8,
   "metadata": {},
   "outputs": [
    {
     "name": "stdout",
     "output_type": "stream",
     "text": [
      "Zeros...\n",
      "[0. 0. 0. 0. 0.]\n"
     ]
    }
   ],
   "source": [
    "print(\"Zeros...\")\n",
    "print(np.zeros(5))"
   ]
  },
  {
   "cell_type": "code",
   "execution_count": 5,
   "metadata": {},
   "outputs": [
    {
     "name": "stdout",
     "output_type": "stream",
     "text": [
      "Print two rows and 3 columns of Zeros...\n",
      "[[0. 0. 0.]\n",
      " [0. 0. 0.]]\n"
     ]
    }
   ],
   "source": [
    "print(\"Print two rows and 3 columns of Zeros...\")\n",
    "print(np.zeros( (2, 3) ))\n",
    "# print(np.zeros(2, 3)) is an error"
   ]
  },
  {
   "cell_type": "code",
   "execution_count": 10,
   "metadata": {},
   "outputs": [
    {
     "name": "stdout",
     "output_type": "stream",
     "text": [
      "Print 4 ones...\n",
      "[1. 1. 1. 1.]\n"
     ]
    }
   ],
   "source": [
    "print(\"Print 4 ones...\")\n",
    "print(np.ones(4))"
   ]
  },
  {
   "cell_type": "code",
   "execution_count": 11,
   "metadata": {},
   "outputs": [
    {
     "name": "stdout",
     "output_type": "stream",
     "text": [
      "Print 3 columns and two rows of ones...\n",
      "[[1. 1.]\n",
      " [1. 1.]\n",
      " [1. 1.]]\n"
     ]
    }
   ],
   "source": [
    "print(\"Print 3 columns and two rows of ones...\")\n",
    "print(np.ones( (3, 2) ))"
   ]
  },
  {
   "cell_type": "code",
   "execution_count": 12,
   "metadata": {},
   "outputs": [
    {
     "name": "stdout",
     "output_type": "stream",
     "text": [
      "Print 2 rows and 4 columns of .1\n",
      "[[0.1 0.1 0.1 0.1]\n",
      " [0.1 0.1 0.1 0.1]]\n"
     ]
    }
   ],
   "source": [
    "print(\"Print 2 rows and 4 columns of .1\")\n",
    "print(np.full( (2, 4), 0.1 ))"
   ]
  },
  {
   "cell_type": "markdown",
   "metadata": {},
   "source": [
    "### :-(  Only one datatype for NUMPY at a time"
   ]
  },
  {
   "cell_type": "markdown",
   "metadata": {},
   "source": [
    "#### LIST"
   ]
  },
  {
   "cell_type": "code",
   "execution_count": 13,
   "metadata": {},
   "outputs": [
    {
     "name": "stdout",
     "output_type": "stream",
     "text": [
      "Original values intact...\n",
      "[1, 's', 0.1]\n"
     ]
    }
   ],
   "source": [
    "#List multi-datatype? NO problem!\n",
    "list_a = [1, 's', 0.1]\n",
    "print(\"Original values intact...\")\n",
    "print(list_a)"
   ]
  },
  {
   "cell_type": "markdown",
   "metadata": {},
   "source": [
    "#### NumPy Array"
   ]
  },
  {
   "cell_type": "code",
   "execution_count": 14,
   "metadata": {},
   "outputs": [
    {
     "name": "stdout",
     "output_type": "stream",
     "text": [
      "Oh no. Converted to strings...\n",
      "['1' 's' '0.1']\n"
     ]
    }
   ],
   "source": [
    "#NUMPY multi-datatype?  PROBLEM!\n",
    "print(\"Oh no. Converted to strings...\")\n",
    "np_list_a = np.array(list_a)\n",
    "print(np_list_a)"
   ]
  },
  {
   "cell_type": "markdown",
   "metadata": {},
   "source": [
    "### NumPy Array Properties (Size)"
   ]
  },
  {
   "cell_type": "code",
   "execution_count": 15,
   "metadata": {},
   "outputs": [],
   "source": [
    "arr = np.array([[1, 3, 5],\n",
    "                [2, 4, 6]])"
   ]
  },
  {
   "cell_type": "markdown",
   "metadata": {},
   "source": [
    "#### How many dimensions?  1 = List; 2 = Table; 3 = Spatial coordinates"
   ]
  },
  {
   "cell_type": "code",
   "execution_count": 16,
   "metadata": {},
   "outputs": [
    {
     "name": "stdout",
     "output_type": "stream",
     "text": [
      "2\n"
     ]
    }
   ],
   "source": [
    "print(arr.ndim) \n",
    "# An integer: 2"
   ]
  },
  {
   "cell_type": "markdown",
   "metadata": {},
   "source": [
    "#### What is the size of each dimension"
   ]
  },
  {
   "cell_type": "code",
   "execution_count": 17,
   "metadata": {},
   "outputs": [
    {
     "name": "stdout",
     "output_type": "stream",
     "text": [
      "(2, 3)\n"
     ]
    }
   ],
   "source": [
    "print(arr.shape)\n",
    "# A tuple: (2, 3), meaning 2 rows 3 cols"
   ]
  },
  {
   "cell_type": "markdown",
   "metadata": {},
   "source": [
    "### Array Arithmetic"
   ]
  },
  {
   "cell_type": "markdown",
   "metadata": {},
   "source": [
    "#### Two NumPy Arrays"
   ]
  },
  {
   "cell_type": "code",
   "execution_count": 18,
   "metadata": {},
   "outputs": [
    {
     "name": "stdout",
     "output_type": "stream",
     "text": [
      "[ 3  7 11]\n",
      "[-1 -1 -1]\n"
     ]
    }
   ],
   "source": [
    "# Same size array\n",
    "a = np.array([1, 3, 5])\n",
    "b = np.array([2, 4, 6])\n",
    "print(a + b)   # [ 3  7 11]\n",
    "print(a - b)   # [-1 -1 -1]\n"
   ]
  },
  {
   "cell_type": "markdown",
   "metadata": {},
   "source": [
    "#### NumPy Array and single number"
   ]
  },
  {
   "cell_type": "code",
   "execution_count": 19,
   "metadata": {},
   "outputs": [
    {
     "name": "stdout",
     "output_type": "stream",
     "text": [
      "[3 5 7]\n",
      "[-1  1  3]\n"
     ]
    }
   ],
   "source": [
    "#Differnt size array\n",
    "a = np.array([1, 3, 5])\n",
    "b = 2\n",
    "print(a + b)   # [3 5 7]\n",
    "print(a - b)   # [-1  1  3]\n"
   ]
  },
  {
   "cell_type": "markdown",
   "metadata": {},
   "source": [
    "## Array Indexing & Slicing\n",
    "### Same as LISTS for 1D arrays"
   ]
  },
  {
   "cell_type": "code",
   "execution_count": 20,
   "metadata": {},
   "outputs": [
    {
     "name": "stdout",
     "output_type": "stream",
     "text": [
      "5\n",
      "[3 1]\n",
      "[5 3 1]\n",
      "[5 4 1]\n"
     ]
    }
   ],
   "source": [
    "a = np.array([5, 3, 1])\n",
    "print(a[0])   # 5\n",
    "print(a[1:])  # [3 1]\n",
    "print(a[:])   # [5 3 1]\n",
    "\n",
    "a[1] = 4\n",
    "print(a)      # [5 4 1]\n"
   ]
  },
  {
   "cell_type": "markdown",
   "metadata": {},
   "source": [
    "### For 2+ D arrays:\n",
    "numpyArray[start_row_index:end_row_index, start_column_index:end_column_index]"
   ]
  },
  {
   "cell_type": "markdown",
   "metadata": {},
   "source": [
    "#### Create NumPy Array"
   ]
  },
  {
   "cell_type": "code",
   "execution_count": 21,
   "metadata": {},
   "outputs": [],
   "source": [
    "b = np.array([\n",
    "              [ 5,  3,  1,  5],\n",
    "              [ 2,  4,  6,  7],\n",
    "              [ 6,  7,  8,  6],\n",
    "              [10, 20, 30, 40],    \n",
    "             ])"
   ]
  },
  {
   "cell_type": "markdown",
   "metadata": {},
   "source": [
    "#### Get the first row all columns"
   ]
  },
  {
   "cell_type": "code",
   "execution_count": 22,
   "metadata": {},
   "outputs": [
    {
     "name": "stdout",
     "output_type": "stream",
     "text": [
      "[5 3 1 5]\n"
     ]
    }
   ],
   "source": [
    "print(b[0,:])   # [5 3 1 5]"
   ]
  },
  {
   "cell_type": "markdown",
   "metadata": {},
   "source": [
    "####  Get all rows and second column"
   ]
  },
  {
   "cell_type": "code",
   "execution_count": 23,
   "metadata": {},
   "outputs": [
    {
     "name": "stdout",
     "output_type": "stream",
     "text": [
      "[ 3  4  7 20]\n"
     ]
    }
   ],
   "source": [
    "print(b[:, 1])   # [3 4 7 20]"
   ]
  },
  {
   "cell_type": "markdown",
   "metadata": {},
   "source": [
    "#### Get the element at Row 1, Col 2"
   ]
  },
  {
   "cell_type": "code",
   "execution_count": 24,
   "metadata": {},
   "outputs": [
    {
     "name": "stdout",
     "output_type": "stream",
     "text": [
      "3\n"
     ]
    }
   ],
   "source": [
    "print(b[0, 1])   # 3"
   ]
  },
  {
   "cell_type": "markdown",
   "metadata": {},
   "source": [
    "#### Get Rows 1 through 2 and column 1 through 2"
   ]
  },
  {
   "cell_type": "code",
   "execution_count": 25,
   "metadata": {},
   "outputs": [
    {
     "name": "stdout",
     "output_type": "stream",
     "text": [
      "[[5 3]\n",
      " [2 4]]\n"
     ]
    }
   ],
   "source": [
    "print(b[0:2,0:2])"
   ]
  },
  {
   "cell_type": "markdown",
   "metadata": {},
   "source": [
    "#### Get Rows 2 through 3 and column 1 through 3"
   ]
  },
  {
   "cell_type": "code",
   "execution_count": 26,
   "metadata": {},
   "outputs": [
    {
     "name": "stdout",
     "output_type": "stream",
     "text": [
      "[[2 4 6]\n",
      " [6 7 8]]\n"
     ]
    }
   ],
   "source": [
    "print(b[1:3,0:3])"
   ]
  },
  {
   "cell_type": "markdown",
   "metadata": {},
   "source": [
    "### Updating NumPy Arrays"
   ]
  },
  {
   "cell_type": "code",
   "execution_count": 27,
   "metadata": {},
   "outputs": [
    {
     "name": "stdout",
     "output_type": "stream",
     "text": [
      "[[5 3 1]\n",
      " [2 4 6]]\n"
     ]
    }
   ],
   "source": [
    "b = np.array([[5, 3, 1],\n",
    "              [2, 4, 6]])\n",
    "print(b)"
   ]
  },
  {
   "cell_type": "code",
   "execution_count": 28,
   "metadata": {},
   "outputs": [
    {
     "name": "stdout",
     "output_type": "stream",
     "text": [
      "[[1 3 5]\n",
      " [2 4 6]]\n"
     ]
    }
   ],
   "source": [
    "# Change a row\n",
    "b[0, :] = np.array([1, 3, 5])\n",
    "print(b)"
   ]
  },
  {
   "cell_type": "code",
   "execution_count": 29,
   "metadata": {},
   "outputs": [
    {
     "name": "stdout",
     "output_type": "stream",
     "text": [
      "[[ 1 -3  5]\n",
      " [ 2 -4  6]]\n"
     ]
    }
   ],
   "source": [
    "# Change a column\n",
    "b[:, 1] = np.array([-3, -4])\n",
    "print(b)"
   ]
  },
  {
   "cell_type": "code",
   "execution_count": 30,
   "metadata": {},
   "outputs": [
    {
     "name": "stdout",
     "output_type": "stream",
     "text": [
      "[[ 1 -3  5]\n",
      " [ 2 -4  0]]\n"
     ]
    }
   ],
   "source": [
    "# Change an element\n",
    "b[1, 2] = 0\n",
    "print(b)"
   ]
  },
  {
   "cell_type": "markdown",
   "metadata": {},
   "source": [
    "### Array Reshape\n",
    "#### # Create array with 9 numbers"
   ]
  },
  {
   "cell_type": "code",
   "execution_count": 9,
   "metadata": {},
   "outputs": [
    {
     "name": "stdout",
     "output_type": "stream",
     "text": [
      "[0 1 2 3 4 5 6 7 8]\n"
     ]
    }
   ],
   "source": [
    "#Forward count\n",
    "a = np.arange(9)\n",
    "print(a)"
   ]
  },
  {
   "cell_type": "code",
   "execution_count": 10,
   "metadata": {},
   "outputs": [
    {
     "name": "stdout",
     "output_type": "stream",
     "text": [
      "[9 8 7 6 5 4 3 2 1]\n"
     ]
    }
   ],
   "source": [
    "#Backward count\n",
    "a = np.arange(9,0,-1)\n",
    "print(a)"
   ]
  },
  {
   "cell_type": "code",
   "execution_count": 14,
   "metadata": {},
   "outputs": [
    {
     "name": "stdout",
     "output_type": "stream",
     "text": [
      "[[9 8 7]\n",
      " [6 5 4]\n",
      " [3 2 1]]\n"
     ]
    }
   ],
   "source": [
    "#Make the array 3 x 3\n",
    "b = a.reshape(3, 3)\n",
    "print(b)"
   ]
  },
  {
   "cell_type": "markdown",
   "metadata": {},
   "source": [
    "## NumPy and Stats\n",
    "### Random Numbers\n",
    "#### Random integers ==> np.random.randint(low, high, size)"
   ]
  },
  {
   "cell_type": "code",
   "execution_count": 34,
   "metadata": {},
   "outputs": [
    {
     "name": "stdout",
     "output_type": "stream",
     "text": [
      "[2 4 6 6 5 2 6 3 1 4]\n"
     ]
    }
   ],
   "source": [
    "#Example:\n",
    "# 1-Dim Array\n",
    "samples = np.random.randint(0, 10, 10)\n",
    "print(samples)"
   ]
  },
  {
   "cell_type": "code",
   "execution_count": 35,
   "metadata": {},
   "outputs": [
    {
     "name": "stdout",
     "output_type": "stream",
     "text": [
      "[[3 2 3 7 1]\n",
      " [7 6 9 1 3]\n",
      " [4 0 5 1 2]\n",
      " [5 1 3 4 1]\n",
      " [7 5 6 8 4]]\n"
     ]
    }
   ],
   "source": [
    "# 2 Dim Array\n",
    "samples = np.random.randint(0, 10, (5, 5))\n",
    "print(samples)"
   ]
  },
  {
   "cell_type": "markdown",
   "metadata": {},
   "source": [
    "#### Normal Distribution  ==> np.random.normal(mean, std, size)"
   ]
  },
  {
   "cell_type": "code",
   "execution_count": 36,
   "metadata": {},
   "outputs": [
    {
     "name": "stdout",
     "output_type": "stream",
     "text": [
      "[7.6349884  8.03397998 7.57906486]\n"
     ]
    }
   ],
   "source": [
    "#Example:\n",
    "# 1-Dim Array\n",
    "samples = np.random.normal(10, 5, 3)\n",
    "print(samples)"
   ]
  },
  {
   "cell_type": "code",
   "execution_count": 37,
   "metadata": {},
   "outputs": [
    {
     "name": "stdout",
     "output_type": "stream",
     "text": [
      "[[ 1.55020131 -0.00602729]\n",
      " [-0.44752714 -0.8373888 ]]\n"
     ]
    }
   ],
   "source": [
    "# 2 Dim Array\n",
    "samples = np.random.normal(0, 1, (2, 2))\n",
    "print(samples)"
   ]
  },
  {
   "cell_type": "markdown",
   "metadata": {},
   "source": [
    "### Statistical Methods\n",
    "#### Two ways to call the functions:"
   ]
  },
  {
   "cell_type": "code",
   "execution_count": 38,
   "metadata": {},
   "outputs": [
    {
     "name": "stdout",
     "output_type": "stream",
     "text": [
      "Array:\n",
      "[0 9 3 1 6 7 9 4 4 8]\n",
      "\n",
      "#0  =  0\n",
      "#1  =  9\n",
      "#2  =  3\n",
      "#3  =  1\n",
      "#4  =  6\n",
      "#5  =  7\n",
      "#6  =  9\n",
      "#7  =  4\n",
      "#8  =  4\n",
      "#9  =  8\n"
     ]
    }
   ],
   "source": [
    "# Example:\n",
    "a = np.random.randint(0, 10, 10)\n",
    "print(\"Array:\")\n",
    "print(a)\n",
    "print()\n",
    "\n",
    "for i in range(len(a)):\n",
    "    print(\"#\" + str(i), \" = \", a[i])"
   ]
  },
  {
   "cell_type": "markdown",
   "metadata": {},
   "source": [
    "#### OPTION 1 - np.functionName(numpyArray)"
   ]
  },
  {
   "cell_type": "code",
   "execution_count": 39,
   "metadata": {},
   "outputs": [
    {
     "name": "stdout",
     "output_type": "stream",
     "text": [
      "Average: 5.1\n"
     ]
    }
   ],
   "source": [
    "b = np.mean(a)\n",
    "print(\"Average:\",b)"
   ]
  },
  {
   "cell_type": "markdown",
   "metadata": {},
   "source": [
    "#### OPTION 2 - numpyArray.method()"
   ]
  },
  {
   "cell_type": "code",
   "execution_count": 40,
   "metadata": {},
   "outputs": [
    {
     "name": "stdout",
     "output_type": "stream",
     "text": [
      "Average: 5.1\n"
     ]
    }
   ],
   "source": [
    "c = a.mean()\n",
    "print(\"Average:\",c)"
   ]
  },
  {
   "cell_type": "code",
   "execution_count": 41,
   "metadata": {},
   "outputs": [
    {
     "name": "stdout",
     "output_type": "stream",
     "text": [
      "Sum: 51\n",
      "Average: 5.1\n",
      "Std: 3.047950130825634\n",
      "Var: 9.29\n",
      "Min: 0\n",
      "Max: 9\n",
      "Minimum number's position: 0\n",
      "Maximum number's position: 1\n"
     ]
    }
   ],
   "source": [
    "print(\"Sum:\",np.sum(a))\n",
    "print(\"Average:\",np.mean(a))\n",
    "print(\"Std:\",np.std(a))\n",
    "print(\"Var:\",np.var(a))\n",
    "print(\"Min:\",np.min(a))\n",
    "print(\"Max:\",np.max(a))\n",
    "print(\"Minimum number's position:\",np.argmin(a)) #Return the location of the smallest Number\n",
    "print(\"Maximum number's position:\",np.argmax(a)) #Return the location of the largest Number\n",
    "\n",
    "# or ..."
   ]
  },
  {
   "cell_type": "code",
   "execution_count": 42,
   "metadata": {},
   "outputs": [
    {
     "name": "stdout",
     "output_type": "stream",
     "text": [
      "Sum: 51\n",
      "Average: 5.1\n",
      "Std: 3.047950130825634\n",
      "Var: 9.29\n",
      "Min: 0\n",
      "Max: 9\n",
      "Minimum number's position: 0\n",
      "Maximum number's position: 1\n"
     ]
    }
   ],
   "source": [
    "print(\"Sum:\",a.sum())\n",
    "print(\"Average:\",a.mean())\n",
    "print(\"Std:\",a.std())\n",
    "print(\"Var:\",a.var())\n",
    "print(\"Min:\",a.min())\n",
    "print(\"Max:\",a.max())\n",
    "print(\"Minimum number's position:\",a.argmin())\n",
    "print(\"Maximum number's position:\",a.argmax())"
   ]
  },
  {
   "cell_type": "markdown",
   "metadata": {},
   "source": [
    "# Structured Array (Named Columns)"
   ]
  },
  {
   "cell_type": "markdown",
   "metadata": {},
   "source": [
    "#### Create a list with 3 rows and 3 columns\n",
    "<pre>\n",
    "Column 1 = Name\n",
    "Column 2 = Height in meters\n",
    "Column 3 = Age\n",
    "</pre>"
   ]
  },
  {
   "cell_type": "code",
   "execution_count": 49,
   "metadata": {},
   "outputs": [
    {
     "name": "stdout",
     "output_type": "stream",
     "text": [
      "[('Arthur', 1.8, 41), ('Lancelot', 1.9, 38), ('Galahad', 1.7, 38)]\n"
     ]
    }
   ],
   "source": [
    "#LIST\n",
    "values = [\n",
    "            ('Arthur',   1.8,  41), \n",
    "            ('Lancelot', 1.9,  38), \n",
    "            ('Galahad',  1.7,  38)\n",
    "        ]\n",
    "print(values)"
   ]
  },
  {
   "cell_type": "markdown",
   "metadata": {},
   "source": [
    "#### Create a list that matches the data list columns and corresponding datatypes"
   ]
  },
  {
   "cell_type": "code",
   "execution_count": 50,
   "metadata": {},
   "outputs": [],
   "source": [
    "#Column Names and Data Types\n",
    "dtype = [\n",
    "            ('name', 'S10'), #S = string\n",
    "            ('height', float), \n",
    "            ('age', int)\n",
    "        ]"
   ]
  },
  {
   "cell_type": "markdown",
   "metadata": {},
   "source": [
    "#### Create NumPy array with column names and datatypes"
   ]
  },
  {
   "cell_type": "code",
   "execution_count": 57,
   "metadata": {},
   "outputs": [
    {
     "name": "stdout",
     "output_type": "stream",
     "text": [
      "[(b'Arthur', 1.8, 41) (b'Lancelot', 1.9, 38) (b'Galahad', 1.7, 38)]\n"
     ]
    }
   ],
   "source": [
    "arrayWithColumns = np.array(values, dtype=dtype)\n",
    "print(arrayWithColumns)\n",
    "#arrayWithColumns"
   ]
  },
  {
   "cell_type": "markdown",
   "metadata": {},
   "source": [
    "### Now it's easy to do Sorting, Statistics, ...\n",
    "#### Sort by one column"
   ]
  },
  {
   "cell_type": "code",
   "execution_count": 60,
   "metadata": {},
   "outputs": [
    {
     "name": "stdout",
     "output_type": "stream",
     "text": [
      "[(b'Galahad', 1.7, 38) (b'Arthur', 1.8, 41) (b'Lancelot', 1.9, 38)]\n",
      "\n",
      "[(b'Galahad', 1.7, 38) (b'Arthur', 1.8, 41) (b'Lancelot', 1.9, 38)]\n"
     ]
    }
   ],
   "source": [
    "#Not saved!!!\n",
    "np.sort(arrayWithColumns, order='height')\n",
    "print(arrayWithColumns)\n",
    "print()\n",
    "\n",
    "#SAVED!!!\n",
    "arrayWithColumns = np.sort(arrayWithColumns, order='height')\n",
    "print(arrayWithColumns)"
   ]
  },
  {
   "cell_type": "markdown",
   "metadata": {},
   "source": [
    "### Maybe there is a tie between rows with height.  Let's add a secondary sort to break the tie"
   ]
  },
  {
   "cell_type": "code",
   "execution_count": 61,
   "metadata": {},
   "outputs": [
    {
     "name": "stdout",
     "output_type": "stream",
     "text": [
      "[(b'Galahad', 1.7, 38) (b'Lancelot', 1.9, 38) (b'Arthur', 1.8, 41)]\n"
     ]
    }
   ],
   "source": [
    "arrayWithColumns = np.sort(arrayWithColumns, order=['age', 'height'])\n",
    "print(arrayWithColumns)"
   ]
  },
  {
   "cell_type": "markdown",
   "metadata": {},
   "source": [
    "# Reading a file into NumPy Array"
   ]
  },
  {
   "cell_type": "code",
   "execution_count": 62,
   "metadata": {},
   "outputs": [],
   "source": [
    "from numpy import genfromtxt"
   ]
  },
  {
   "cell_type": "markdown",
   "metadata": {},
   "source": [
    "### Use first row as column titles"
   ]
  },
  {
   "cell_type": "code",
   "execution_count": 86,
   "metadata": {},
   "outputs": [
    {
     "name": "stdout",
     "output_type": "stream",
     "text": [
      "[('ID', '<i4'), ('Model', '<U75'), ('Actual_Price', '<i4'), ('Age_08_04', '<i4'), ('KM', '<i4'), ('Fuel_Type', '<U6'), ('HP', '<i4'), ('Automatic', '<i4'), ('Weight', '<i4'), ('Automatic_airco', '<i4')]\n"
     ]
    }
   ],
   "source": [
    "my_data = np.genfromtxt('ToyotaDataPC.csv',  #FILE NAME\n",
    "                        skip_header=False,    #Do not skip first row. Contains column titles\n",
    "                        encoding=None,       #Usually \"None\"\n",
    "                        delimiter = ',',     #Comma separated value file\n",
    "                        dtype=None,          #None means let Python decide on the datatypes\n",
    "                        names = True         #True means use the column titles in the first row.\n",
    "                       )\n",
    "\n",
    "print(my_data.dtype)"
   ]
  },
  {
   "cell_type": "markdown",
   "metadata": {},
   "source": [
    "### Skip first row (column titles) and make your own column titles."
   ]
  },
  {
   "cell_type": "code",
   "execution_count": 87,
   "metadata": {},
   "outputs": [],
   "source": [
    "my_data = np.genfromtxt('ToyotaDataPC.csv',  #FILE NAME\n",
    "                        skip_header=True,    #SKIP FIRST ROW? (make your own column titles)\n",
    "                        encoding=None,       #Usually \"None\"\n",
    "                        delimiter = ',',     #Comma separated value file\n",
    "                        dtype=None,          #None means let Python decide on the datatypes\n",
    "                        names=['ID',         #Skipped header. Make your own column titles\n",
    "                               'Model', \n",
    "                               'Price', \n",
    "                               'Age', \n",
    "                               'KM', \n",
    "                               'Fuel_Type', \n",
    "                               'HP', \n",
    "                               'Automatic', \n",
    "                               'Weight', \n",
    "                               'Automatic_airco']\n",
    "                       )\n",
    "\n",
    "#Note: dtype = None means that we will let Numpy determine the \"best\" datatype for each column"
   ]
  },
  {
   "cell_type": "code",
   "execution_count": 88,
   "metadata": {},
   "outputs": [
    {
     "name": "stdout",
     "output_type": "stream",
     "text": [
      "[('ID', '<i4'), ('Model', '<U75'), ('Price', '<i4'), ('Age', '<i4'), ('KM', '<i4'), ('Fuel_Type', '<U6'), ('HP', '<i4'), ('Automatic', '<i4'), ('Weight', '<i4'), ('Automatic_airco', '<i4')]\n"
     ]
    }
   ],
   "source": [
    "print(my_data.dtype)"
   ]
  },
  {
   "cell_type": "code",
   "execution_count": 89,
   "metadata": {},
   "outputs": [],
   "source": [
    "### Print the average of the Price column (column 3)"
   ]
  },
  {
   "cell_type": "code",
   "execution_count": 97,
   "metadata": {},
   "outputs": [
    {
     "name": "stdout",
     "output_type": "stream",
     "text": [
      "10730.824512534818\n",
      "10730.824512534818\n"
     ]
    }
   ],
   "source": [
    "print(my_data['Price'].mean())\n",
    "print(np.mean(my_data['Price']))"
   ]
  },
  {
   "cell_type": "code",
   "execution_count": null,
   "metadata": {},
   "outputs": [],
   "source": []
  }
 ],
 "metadata": {
  "kernelspec": {
   "display_name": "Python 3",
   "language": "python",
   "name": "python3"
  },
  "language_info": {
   "codemirror_mode": {
    "name": "ipython",
    "version": 3
   },
   "file_extension": ".py",
   "mimetype": "text/x-python",
   "name": "python",
   "nbconvert_exporter": "python",
   "pygments_lexer": "ipython3",
   "version": "3.8.5"
  }
 },
 "nbformat": 4,
 "nbformat_minor": 4
}
