{
 "cells": [
  {
   "cell_type": "markdown",
   "metadata": {},
   "source": [
    "# Coding Exercise - Week 6\n",
    "Exercise: In week 4, you wrote a program to read through the text file *mbox-short.txt* and printed all the from email address of the file (line by line). Now, find out which weekday the email was sent and keep a running count of each weekday in a dictionary. At the end of the program, print out the contents of your count in the dictionary. Note that not all line starting with \"From\" contains weekday infromation. Your code should be able to handle this. \n",
    "\n",
    "You can use base Python functions such as startswith(), endswith, find(), etc to solve this problem or you can use Regular Expressions.  Either is acceptable for this week.\n",
    "\n",
    "The result should like the line below. The count of each weekday uses a place hold x. Your code should print out the actual numbers.\n",
    "<pre>\n",
    "{'Sat': x, 'Fri': x, 'Thu': x}\n",
    "</pre>"
   ]
  },
  {
   "cell_type": "code",
   "execution_count": 14,
   "metadata": {},
   "outputs": [
    {
     "name": "stdout",
     "output_type": "stream",
     "text": [
      "{'Sat': 12, 'Fri': 245, 'Thu': 71, 'Wed': 3, 'Tue': 0, 'Mon': 1, 'Sun': 0}\n"
     ]
    }
   ],
   "source": [
    "import re\n",
    "import numpy as np\n",
    "\n",
    "weekday = ['Sat','Fri','Thu','Wed','Tue','Mon','Sun']\n",
    "mylist = np.zeros(7,int)\n",
    "\n",
    "txtfile = open('mbox-short.txt')\n",
    "\n",
    "for line in txtfile:\n",
    "    for day in range(len(weekday)):\n",
    "        if weekday[day] in line:\n",
    "            mylist[day]+=1\n",
    "\n",
    "weekday_dict = dict(zip(weekday,mylist))\n",
    "print(weekday_dict)        \n"
   ]
  },
  {
   "cell_type": "code",
   "execution_count": 14,
   "metadata": {},
   "outputs": [
    {
     "name": "stdout",
     "output_type": "stream",
     "text": [
      "{'Sat': 1, 'Fri': 20, 'Thu': 6}\n"
     ]
    }
   ],
   "source": [
    "import re\n",
    "\n",
    "weekday = ['Sat', 'Fri', 'Thu']\n",
    "mylist = []\n",
    "\n",
    "fricount = 0\n",
    "satcount = 0\n",
    "thucount = 0\n",
    "\n",
    "file = open('mbox-short.txt')\n",
    "for x in file:\n",
    "    x = x.rstrip()\n",
    "    if re.search('^Date:',x):\n",
    "        dfind = re.findall(\"^Date: (.*),\",x)\n",
    "        if dfind[0].startswith('Fri'):\n",
    "            fricount +=1\n",
    "        elif dfind[0].startswith('Sat'):\n",
    "            satcount +=1\n",
    "        elif dfind[0].startswith('Thu'):\n",
    "            thucount +=1\n",
    "\n",
    "mylist = [satcount,fricount,thucount]\n",
    "\n",
    "anotherweekdaydict = dict(zip(weekday,mylist))\n",
    "print(anotherweekdaydict)"
   ]
  },
  {
   "cell_type": "code",
   "execution_count": null,
   "metadata": {},
   "outputs": [],
   "source": []
  }
 ],
 "metadata": {
  "kernelspec": {
   "display_name": "Python 3",
   "language": "python",
   "name": "python3"
  },
  "language_info": {
   "codemirror_mode": {
    "name": "ipython",
    "version": 3
   },
   "file_extension": ".py",
   "mimetype": "text/x-python",
   "name": "python",
   "nbconvert_exporter": "python",
   "pygments_lexer": "ipython3",
   "version": "3.8.5"
  }
 },
 "nbformat": 4,
 "nbformat_minor": 4
}
