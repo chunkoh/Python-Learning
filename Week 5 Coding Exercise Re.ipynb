{
 "cells": [
  {
   "cell_type": "markdown",
   "metadata": {},
   "source": [
    "# Coding Exercise - Week 5\n",
    "Exercise: I would like to view all webpage links in the text file to make sure that none of weblinks look suspicious.\n",
    "1. In addition to printing the results to the screen, save the results in a list named \"listOfHyperLinks\"\n",
    "1. Capture (keep) only unique weblinks.  I do not need to know how many times a specific link showed up in the file nor do I need them added more than once to the list called \"listOfHyperLinks\".\n",
    "1. Weblinks (aka HyperLinks) start with the word/characters <b><i>http</i></b>\n",
    "1. You should only keep the weblink so if there is a \"(\" before or a \")\" after the weblink those characters should be removed.\n",
    "1. Print the number of unique weblinks that I am need to review (count them)\n",
    "Below are the first 9 elements of the list.\n",
    "<pre>\n",
    "http://source.sakaiproject.org/viewsvn/?view=rev&rev=39772\n",
    "https://collab.sakaiproject.org/portal\n",
    "http://source.sakaiproject.org/viewsvn/?view=rev&rev=39771\n",
    "http://source.sakaiproject.org/viewsvn/?view=rev&rev=39770\n",
    "https://source.sakaiproject.org/svn/site-manage/trunk/\n",
    "http://source.sakaiproject.org/viewsvn/?view=rev&rev=39769\n",
    "http://source.sakaiproject.org/viewsvn/?view=rev&rev=39766\n",
    "http://source.sakaiproject.org/viewsvn/?view=rev&rev=39765\n",
    "http://source.sakaiproject.org/viewsvn/?view=rev&rev=39764\n",
    "</pre>\n"
   ]
  },
  {
   "cell_type": "code",
   "execution_count": 8,
   "metadata": {},
   "outputs": [
    {
     "name": "stdout",
     "output_type": "stream",
     "text": [
      "http://source.sakaiproject.org/viewsvn/?view=rev&rev=39772\n",
      "https://collab.sakaiproject.org/portal\n",
      "http://source.sakaiproject.org/viewsvn/?view=rev&rev=39771\n",
      "http://source.sakaiproject.org/viewsvn/?view=rev&rev=39770\n",
      "https://source.sakaiproject.org/svn/site-manage/trunk/\n",
      "http://source.sakaiproject.org/viewsvn/?view=rev&rev=39769\n",
      "http://source.sakaiproject.org/viewsvn/?view=rev&rev=39766\n",
      "http://source.sakaiproject.org/viewsvn/?view=rev&rev=39765\n",
      "http://source.sakaiproject.org/viewsvn/?view=rev&rev=39764\n",
      "https://source.sakaiproject.org/svn/msgcntr/trunk\n",
      "http://jira.sakaiproject.org/jira/browse/SAK-12488\n",
      "http://source.sakaiproject.org/viewsvn/?view=rev&rev=39763\n",
      "http://jira.sakaiproject.org/jira/browse/SAK-12484\n",
      "http://source.sakaiproject.org/viewsvn/?view=rev&rev=39762\n",
      "http://bugs.sakaiproject.org/jira/browse/SAK-12596\n",
      "http://source.sakaiproject.org/viewsvn/?view=rev&rev=39761\n",
      "http://bugs.sakaiproject.org/jira/browse/SAK-12595\n",
      "http://source.sakaiproject.org/viewsvn/?view=rev&rev=39760\n",
      "http://source.sakaiproject.org/viewsvn/?view=rev&rev=39759\n",
      "http://bugs.sakaiproject.org/jira/browse/SAK-12592\n",
      "http://source.sakaiproject.org/viewsvn/?view=rev&rev=39758\n",
      "http://bugs.sakaiproject.org/jira/browse/SAK-12175\n",
      "http://source.sakaiproject.org/viewsvn/?view=rev&rev=39757\n",
      "http://source.sakaiproject.org/viewsvn/?view=rev&rev=39756\n",
      "http://source.sakaiproject.org/viewsvn/?view=rev&rev=39755\n",
      "http://source.sakaiproject.org/viewsvn/?view=rev&rev=39754\n",
      "https://source.sakaiproject.org/svn/polls/trunk\n",
      "https://source.sakaiproject.org/svn/polls/trunk polls/\n",
      "http://source.sakaiproject.org/viewsvn/?view=rev&rev=39753\n",
      "http://source.sakaiproject.org/viewsvn/?view=rev&rev=39752\n",
      "https://source.sakaiproject.org/svn/podcasts/trunk\n",
      "https://source.sakaiproject.org/svn/podcasts/trunk podcasts/\n",
      "http://source.sakaiproject.org/viewsvn/?view=rev&rev=39751\n",
      "http://source.sakaiproject.org/viewsvn/?view=rev&rev=39750\n",
      "http://source.sakaiproject.org/viewsvn/?view=rev&rev=39749\n",
      "http://source.sakaiproject.org/viewsvn/?view=rev&rev=39746\n",
      "http://source.sakaiproject.org/viewsvn/?view=rev&rev=39745\n",
      "http://source.sakaiproject.org/viewsvn/?view=rev&rev=39744\n",
      "http://source.sakaiproject.org/viewsvn/?view=rev&rev=39743\n",
      "https://source.sakaiproject.org/svn/gradebook/trunk\n",
      "http://jira.sakaiproject.org/jira/browse/SAK-12504\n",
      "http://source.sakaiproject.org/viewsvn/?view=rev&rev=39742\n",
      "http://bugs.sakaiproject.org/jira/browse/SAK-11458\n",
      "The total number of unique links is:  43\n"
     ]
    }
   ],
   "source": [
    "ori = []\n",
    "listOfHyperLinks = []\n",
    "\n",
    "exercise5 = open('mbox-short.txt')\n",
    "\n",
    "for line in exercise5:\n",
    "    line = line.rstrip()\n",
    "    if 'http' in line:\n",
    "        startpos = line.find('http')\n",
    "        first = line[startpos:]\n",
    "        if ')' in first:\n",
    "            endpos = first.find(')')\n",
    "            second = first[:endpos]\n",
    "        else:\n",
    "            second = first\n",
    "        ori.append(second)\n",
    "\n",
    "for i in ori:\n",
    "    if i not in listOfHyperLinks:\n",
    "        listOfHyperLinks.append(i)\n",
    "\n",
    "count = 0\n",
    "for x in listOfHyperLinks:\n",
    "    count = count +1\n",
    "    print(x)\n",
    "print(\"The total number of unique links is: \" ,count)\n"
   ]
  },
  {
   "cell_type": "code",
   "execution_count": null,
   "metadata": {},
   "outputs": [],
   "source": []
  }
 ],
 "metadata": {
  "kernelspec": {
   "display_name": "Python 3",
   "language": "python",
   "name": "python3"
  },
  "language_info": {
   "codemirror_mode": {
    "name": "ipython",
    "version": 3
   },
   "file_extension": ".py",
   "mimetype": "text/x-python",
   "name": "python",
   "nbconvert_exporter": "python",
   "pygments_lexer": "ipython3",
   "version": "3.8.5"
  }
 },
 "nbformat": 4,
 "nbformat_minor": 4
}
