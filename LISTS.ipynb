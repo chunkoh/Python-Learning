{
 "cells": [
  {
   "cell_type": "markdown",
   "metadata": {},
   "source": [
    "# Collections"
   ]
  },
  {
   "cell_type": "code",
   "execution_count": 1,
   "metadata": {},
   "outputs": [
    {
     "name": "stdout",
     "output_type": "stream",
     "text": [
      "5\n"
     ]
    }
   ],
   "source": [
    "#What is not a collection?\n",
    "#A single value variable\n",
    "x = 5\n",
    "y = 5.5\n",
    "print(x)"
   ]
  },
  {
   "cell_type": "markdown",
   "metadata": {},
   "source": [
    "### LISTS, TUPLES, DICTIONARIES and SETS"
   ]
  },
  {
   "cell_type": "code",
   "execution_count": 2,
   "metadata": {},
   "outputs": [
    {
     "name": "stdout",
     "output_type": "stream",
     "text": [
      "<class 'list'>\n",
      "<class 'tuple'>\n",
      "<class 'dict'>\n",
      "<class 'set'>\n"
     ]
    }
   ],
   "source": [
    "#What are collections?\n",
    "\n",
    "# LIST - A list\n",
    "LIST_friends1 = [ 'Joseph', 'Glenn', 'Sally' ]\n",
    "LIST_friends2 = [ 'Jake', 'Glenn', 'Sarah' ]\n",
    "print(type(LIST_friends1))\n",
    "\n",
    "#TUPLES - A read-only list\n",
    "TUPLE_friends1 = ( 'Joseph', 'Glenn', 'Sally' )\n",
    "TUPLE_friends2 = ( 'Jake', 'Glenn', 'Sarah' )\n",
    "print(type(TUPLE_friends1))\n",
    "\n",
    "#DICTIONARY - A indexed list (two-column table)\n",
    "DICT_friends1 = { \"Emp1\" : 'Joseph', \"EMP2\" : 'Glenn', \"EMP3\" : 'Sally' }\n",
    "print(type(DICT_friends1))\n",
    "\n",
    "#SETS - A list that understands SET logic from math class\n",
    "SET_friends1 = { 'Joseph', 'Glenn', 'Sally' }\n",
    "SET_friends2 = { 'Jake', 'Glenn', 'Sarah' }\n",
    "print(type(SET_friends1))"
   ]
  },
  {
   "cell_type": "markdown",
   "metadata": {},
   "source": [
    "### LISTS - More Detail"
   ]
  },
  {
   "cell_type": "code",
   "execution_count": 3,
   "metadata": {},
   "outputs": [
    {
     "name": "stdout",
     "output_type": "stream",
     "text": [
      "['apple', 'banana', 'peach']\n",
      "\n",
      "[]\n",
      "\n",
      "[]\n",
      "\n",
      "[1, 'ball', ['Sublist Item 1', 'Sublist Item 2']]\n",
      "\n"
     ]
    }
   ],
   "source": [
    "myList1 = [\"apple\", \"banana\", \"peach\"]\n",
    "print(myList1)\n",
    "print()\n",
    "\n",
    "myList2 = []\n",
    "print(myList2)\n",
    "print()\n",
    "\n",
    "myList3 = list()\n",
    "print(myList3)\n",
    "print()\n",
    "\n",
    "myList4 = [1, \"ball\", [\"Sublist Item 1\", \"Sublist Item 2\"]]\n",
    "print(myList4)\n",
    "print()\n",
    "\n"
   ]
  },
  {
   "cell_type": "markdown",
   "metadata": {},
   "source": [
    "### Looping through a list"
   ]
  },
  {
   "cell_type": "code",
   "execution_count": 4,
   "metadata": {},
   "outputs": [
    {
     "name": "stdout",
     "output_type": "stream",
     "text": [
      "5\n",
      "4\n",
      "3\n",
      "2\n",
      "1\n",
      "Blastoff!\n",
      "\n",
      "\n",
      "5\n",
      "4\n",
      "3\n",
      "2\n",
      "1\n",
      "Blastoff!\n"
     ]
    }
   ],
   "source": [
    "# Example 1\n",
    "myList = [5, 4, 3, 2, 1]\n",
    "\n",
    "for i in myList :\n",
    "    print(i)\n",
    "print('Blastoff!\\n\\n')\n",
    "\n",
    "# Example 2\n",
    "for i in [5, 4, 3, 2, 1] :\n",
    "    print(i)\n",
    "print('Blastoff!')"
   ]
  },
  {
   "cell_type": "markdown",
   "metadata": {},
   "source": [
    "### Looking Inside Lists (Slicing)"
   ]
  },
  {
   "cell_type": "code",
   "execution_count": 5,
   "metadata": {},
   "outputs": [
    {
     "name": "stdout",
     "output_type": "stream",
     "text": [
      "Glenn\n"
     ]
    }
   ],
   "source": [
    "friends = [ 'Joseph', 'Glenn', 'Sally' ]\n",
    "print(friends[1])\n"
   ]
  },
  {
   "cell_type": "markdown",
   "metadata": {},
   "source": [
    "### Lists are Mutable"
   ]
  },
  {
   "cell_type": "code",
   "execution_count": 6,
   "metadata": {},
   "outputs": [
    {
     "name": "stdout",
     "output_type": "stream",
     "text": [
      "banana\n",
      "\n",
      "Before: \n",
      "[2, 14, 26, 41, 63]\n",
      "\n",
      "After:\n",
      "[2, 14, 28, 41, 63]\n"
     ]
    }
   ],
   "source": [
    "fruit = 'Banana'\n",
    "# Banana = [\"B\", \"a\", \"n\", \"a\", \"n\", \"a\"]\n",
    "# fruit[0] = 'b'  # This will cause a run-time\n",
    "x = fruit.lower()\n",
    "print(x)\n",
    "print()\n",
    "\n",
    "#Print Before\n",
    "lotto = [2, 14, 26, 41, 63]\n",
    "print(\"Before: \")\n",
    "print(lotto)\n",
    "print()\n",
    "\n",
    "#Print After\n",
    "lotto[2] = 28\n",
    "print(\"After:\")\n",
    "print(lotto)"
   ]
  },
  {
   "cell_type": "code",
   "execution_count": 7,
   "metadata": {},
   "outputs": [],
   "source": [
    "### Length of List"
   ]
  },
  {
   "cell_type": "code",
   "execution_count": 8,
   "metadata": {},
   "outputs": [
    {
     "name": "stdout",
     "output_type": "stream",
     "text": [
      "9\n",
      "4\n"
     ]
    }
   ],
   "source": [
    "greet = 'Hello Bob'\n",
    "print(len(greet))\n",
    "\n",
    "x = [ 1, 2, 'joe', 99]\n",
    "print(len(x))\n"
   ]
  },
  {
   "cell_type": "markdown",
   "metadata": {},
   "source": [
    "### Range Function"
   ]
  },
  {
   "cell_type": "code",
   "execution_count": 9,
   "metadata": {},
   "outputs": [
    {
     "name": "stdout",
     "output_type": "stream",
     "text": [
      "range(0, 4)\n",
      "3\n",
      "range(0, 3)\n"
     ]
    }
   ],
   "source": [
    "print(range(4))\n",
    "\n",
    "friends = ['Joseph', 'Glenn', 'Sally']\n",
    "print(len(friends))\n",
    "\n",
    "print(range(len(friends)))"
   ]
  },
  {
   "cell_type": "markdown",
   "metadata": {},
   "source": [
    "### Two approaches to Looping through a list"
   ]
  },
  {
   "cell_type": "code",
   "execution_count": 10,
   "metadata": {},
   "outputs": [
    {
     "name": "stdout",
     "output_type": "stream",
     "text": [
      "Happy New Year: Joseph\n",
      "Happy New Year: Glenn\n",
      "Happy New Year: Sally\n",
      "\n",
      "Happy New Year: Joseph\n",
      "Happy New Year: Glenn\n",
      "Happy New Year: Sally\n"
     ]
    }
   ],
   "source": [
    "friends = ['Joseph', 'Glenn', 'Sally']\n",
    "\n",
    "for friend in friends :\n",
    "    print('Happy New Year:',  friend)\n",
    "print()\n",
    "\n",
    "for i in range(len(friends)) :\n",
    "    friend = friends[i]\n",
    "    print('Happy New Year:',  friend)\n"
   ]
  },
  {
   "cell_type": "markdown",
   "metadata": {},
   "source": [
    "### Concatenating Lists Using +"
   ]
  },
  {
   "cell_type": "code",
   "execution_count": 11,
   "metadata": {},
   "outputs": [
    {
     "name": "stdout",
     "output_type": "stream",
     "text": [
      "[1, 2, 3, 4, 5, 6]\n",
      "\n",
      "[1, 2, 3]\n"
     ]
    }
   ],
   "source": [
    "a = [1, 2, 3]\n",
    "b = [4, 5, 6]\n",
    "c = a + b\n",
    "print(c)\n",
    "print()\n",
    "print(a)\n"
   ]
  },
  {
   "cell_type": "markdown",
   "metadata": {},
   "source": [
    "### Lists Can Be Sliced "
   ]
  },
  {
   "cell_type": "code",
   "execution_count": 12,
   "metadata": {},
   "outputs": [
    {
     "name": "stdout",
     "output_type": "stream",
     "text": [
      "[41, 12]\n",
      "\n",
      "[9, 41, 12, 3]\n",
      "\n",
      "[3, 74, 15]\n",
      "\n",
      "[9, 41, 12, 3, 74, 15]\n",
      "\n"
     ]
    }
   ],
   "source": [
    "t = [9, 41, 12, 3, 74, 15]\n",
    "print(t[1:3])\n",
    "print()\n",
    "\n",
    "print(t[:4])\n",
    "print()\n",
    "\n",
    "print(t[3:])\n",
    "print()\n",
    "\n",
    "print(t[:])\n",
    "print()\n"
   ]
  },
  {
   "cell_type": "markdown",
   "metadata": {},
   "source": [
    "### List Methods"
   ]
  },
  {
   "cell_type": "code",
   "execution_count": 13,
   "metadata": {
    "scrolled": true
   },
   "outputs": [
    {
     "name": "stdout",
     "output_type": "stream",
     "text": [
      "\n"
     ]
    },
    {
     "data": {
      "text/plain": [
       "['__add__',\n",
       " '__class__',\n",
       " '__contains__',\n",
       " '__delattr__',\n",
       " '__delitem__',\n",
       " '__dir__',\n",
       " '__doc__',\n",
       " '__eq__',\n",
       " '__format__',\n",
       " '__ge__',\n",
       " '__getattribute__',\n",
       " '__getitem__',\n",
       " '__gt__',\n",
       " '__hash__',\n",
       " '__iadd__',\n",
       " '__imul__',\n",
       " '__init__',\n",
       " '__init_subclass__',\n",
       " '__iter__',\n",
       " '__le__',\n",
       " '__len__',\n",
       " '__lt__',\n",
       " '__mul__',\n",
       " '__ne__',\n",
       " '__new__',\n",
       " '__reduce__',\n",
       " '__reduce_ex__',\n",
       " '__repr__',\n",
       " '__reversed__',\n",
       " '__rmul__',\n",
       " '__setattr__',\n",
       " '__setitem__',\n",
       " '__sizeof__',\n",
       " '__str__',\n",
       " '__subclasshook__',\n",
       " 'append',\n",
       " 'clear',\n",
       " 'copy',\n",
       " 'count',\n",
       " 'extend',\n",
       " 'index',\n",
       " 'insert',\n",
       " 'pop',\n",
       " 'remove',\n",
       " 'reverse',\n",
       " 'sort']"
      ]
     },
     "execution_count": 13,
     "metadata": {},
     "output_type": "execute_result"
    }
   ],
   "source": [
    "x = list()\n",
    "type(x)\n",
    "print()\n",
    "dir(x)\n"
   ]
  },
  {
   "cell_type": "markdown",
   "metadata": {},
   "source": [
    "### Building a list"
   ]
  },
  {
   "cell_type": "code",
   "execution_count": 14,
   "metadata": {},
   "outputs": [
    {
     "name": "stdout",
     "output_type": "stream",
     "text": [
      "['book', 99]\n",
      "\n",
      "['book', 99, 'cookie']\n"
     ]
    }
   ],
   "source": [
    "#Create an empty list\n",
    "stuff = list()\n",
    "\n",
    "#Add an item\n",
    "stuff.append('book')\n",
    "\n",
    "#Add a second item\n",
    "stuff.append(99)\n",
    "print(stuff)\n",
    "print()\n",
    "\n",
    "#Add a third item\n",
    "stuff.append('cookie')\n",
    "print(stuff)"
   ]
  },
  {
   "cell_type": "markdown",
   "metadata": {},
   "source": [
    "### Is Something in a List?"
   ]
  },
  {
   "cell_type": "code",
   "execution_count": 15,
   "metadata": {},
   "outputs": [
    {
     "name": "stdout",
     "output_type": "stream",
     "text": [
      "True\n",
      "\n",
      "False\n",
      "\n",
      "True\n",
      "\n"
     ]
    }
   ],
   "source": [
    "#Create a list of numbers\n",
    "some = [1, 9, 21, 10, 16]\n",
    "#Is there a 9 in the list\n",
    "print(9 in some)\n",
    "print()\n",
    "\n",
    "#15?\n",
    "print(15 in some)\n",
    "print()\n",
    "\n",
    "#20?\n",
    "print(20 not in some)\n",
    "print()\n"
   ]
  },
  {
   "cell_type": "markdown",
   "metadata": {},
   "source": [
    "### Lists are in Order"
   ]
  },
  {
   "cell_type": "code",
   "execution_count": 16,
   "metadata": {},
   "outputs": [
    {
     "name": "stdout",
     "output_type": "stream",
     "text": [
      "['Glenn', 'Joseph', 'Sally']\n",
      "\n",
      "Joseph\n"
     ]
    }
   ],
   "source": [
    "friends = [ 'Joseph', 'Glenn', 'Sally' ]\n",
    "#Sort a list\n",
    "friends.sort()\n",
    "print(friends)\n",
    "print()\n",
    "\n",
    "print(friends[1])\n"
   ]
  },
  {
   "cell_type": "markdown",
   "metadata": {},
   "source": [
    "### Built-in Functions and Lists"
   ]
  },
  {
   "cell_type": "code",
   "execution_count": 17,
   "metadata": {},
   "outputs": [
    {
     "name": "stdout",
     "output_type": "stream",
     "text": [
      "6\n",
      "\n",
      "74\n",
      "\n",
      "3\n",
      "\n",
      "154\n",
      "\n",
      "25.666666666666668\n"
     ]
    }
   ],
   "source": [
    "nums = [3, 41, 12, 9, 74, 15]\n",
    "print(len(nums))\n",
    "print()\n",
    "\n",
    "print(max(nums))\n",
    "print()\n",
    "\n",
    "print(min(nums))\n",
    "print()\n",
    "\n",
    "print(sum(nums))\n",
    "print()\n",
    "\n",
    "print(sum(nums)/len(nums))"
   ]
  },
  {
   "cell_type": "markdown",
   "metadata": {},
   "source": [
    "### Options for calculations using LISTS"
   ]
  },
  {
   "cell_type": "code",
   "execution_count": 18,
   "metadata": {},
   "outputs": [
    {
     "name": "stdout",
     "output_type": "stream",
     "text": [
      "Enter a number: 20\n",
      "Enter a number: 20\n",
      "Enter a number: done\n",
      "Average: 20.0\n",
      "\n",
      "\n",
      "Enter a number: 30\n",
      "Enter a number: 40\n",
      "Enter a number: done\n",
      "Average: 35.0\n"
     ]
    }
   ],
   "source": [
    "# OPTION 1\n",
    "#=======================\n",
    "total = 0\n",
    "count = 0\n",
    "while True :\n",
    "    inp = input('Enter a number: ')\n",
    "    if inp == 'done' : break\n",
    "    value = float(inp)\n",
    "    total = total + value     \n",
    "    count = count + 1\n",
    "\n",
    "average = total / count\n",
    "print('Average:', average)\n",
    "print(\"\\n\")\n",
    "\n",
    "#OPTION 2\n",
    "#=======================\n",
    "numlist = list()\n",
    "while True :\n",
    "    inp = input('Enter a number: ')\n",
    "    if inp == 'done' : break\n",
    "    value = float(inp)\n",
    "    numlist.append(value)\n",
    "\n",
    "average = sum(numlist) / len(numlist)\n",
    "print('Average:', average)\n"
   ]
  },
  {
   "cell_type": "markdown",
   "metadata": {},
   "source": [
    "### Create a list of words"
   ]
  },
  {
   "cell_type": "code",
   "execution_count": 19,
   "metadata": {},
   "outputs": [
    {
     "name": "stdout",
     "output_type": "stream",
     "text": [
      "['With', 'three', 'words']\n",
      "3\n",
      "With\n"
     ]
    }
   ],
   "source": [
    "abc = 'With three words'\n",
    "stuff = abc.split()\n",
    "print(stuff)\n",
    "\n",
    "print(len(stuff))\n",
    "print(stuff[0])"
   ]
  },
  {
   "cell_type": "markdown",
   "metadata": {},
   "source": [
    "### Loop through a list of words"
   ]
  },
  {
   "cell_type": "code",
   "execution_count": 20,
   "metadata": {},
   "outputs": [
    {
     "name": "stdout",
     "output_type": "stream",
     "text": [
      "['With', 'three', 'words']\n",
      "\n",
      "With\n",
      "three\n",
      "words\n"
     ]
    }
   ],
   "source": [
    "print(stuff)\n",
    "print()\n",
    "\n",
    "for w in stuff :\n",
    "    print(w)"
   ]
  },
  {
   "cell_type": "markdown",
   "metadata": {},
   "source": [
    "### More examples of split() function"
   ]
  },
  {
   "cell_type": "code",
   "execution_count": 21,
   "metadata": {},
   "outputs": [
    {
     "name": "stdout",
     "output_type": "stream",
     "text": [
      "['A', 'lot', 'of', 'spaces']\n",
      "\n",
      "['first;second;third']\n",
      "\n",
      "1\n",
      "\n",
      "['first', 'second', 'third']\n",
      "\n",
      "3\n"
     ]
    }
   ],
   "source": [
    "#Default is to split using a space\n",
    "line = 'A lot               of spaces'\n",
    "etc = line.split()\n",
    "print(etc)\n",
    "print()\n",
    "\n",
    "#If the seperation is not a space we have to tell Python the delimeter being used\n",
    "line = 'first;second;third'\n",
    "thing = line.split()\n",
    "print(thing)\n",
    "print()\n",
    "\n",
    "print(len(thing))\n",
    "print()\n",
    "\n",
    "#The above attempt to split the data did not work becuase we needed\n",
    "#  to tell Python to use a semi-colon\n",
    "thing = line.split(';')\n",
    "print(thing)\n",
    "print()\n",
    "\n",
    "print(len(thing))\n"
   ]
  },
  {
   "cell_type": "markdown",
   "metadata": {},
   "source": [
    "# List comprehension"
   ]
  },
  {
   "cell_type": "markdown",
   "metadata": {},
   "source": [
    "### This loop for a list"
   ]
  },
  {
   "cell_type": "code",
   "execution_count": 22,
   "metadata": {},
   "outputs": [
    {
     "name": "stdout",
     "output_type": "stream",
     "text": [
      "['apple', 'banana', 'mango']\n"
     ]
    }
   ],
   "source": [
    "fruits = [\"apple\", \"banana\", \"cherry\", \"kiwi\", \"mango\"]\n",
    "newlist = []\n",
    "\n",
    "for fruit in fruits:\n",
    "    if \"a\" in fruit:\n",
    "        newlist.append(fruit)\n",
    "\n",
    "print(newlist)"
   ]
  },
  {
   "cell_type": "markdown",
   "metadata": {},
   "source": [
    "### becomes the following code using LIST COMPREHENSION"
   ]
  },
  {
   "cell_type": "code",
   "execution_count": 23,
   "metadata": {},
   "outputs": [
    {
     "name": "stdout",
     "output_type": "stream",
     "text": [
      "['apple', 'banana', 'mango']\n"
     ]
    }
   ],
   "source": [
    "fruits = [\"apple\", \"banana\", \"cherry\", \"kiwi\", \"mango\"]\n",
    "\n",
    "# SYNTAX\n",
    "# newlist = [expression for item in iterable if condition == True]\n",
    "newlist = [fruit for fruit in fruits if \"a\" in fruit]\n",
    "\n",
    "print(newlist)"
   ]
  },
  {
   "cell_type": "markdown",
   "metadata": {},
   "source": [
    "### Change all values to upper case in a list"
   ]
  },
  {
   "cell_type": "code",
   "execution_count": 24,
   "metadata": {},
   "outputs": [
    {
     "name": "stdout",
     "output_type": "stream",
     "text": [
      "['APPLE', 'BANANA', 'CHERRY', 'KIWI', 'MANGO']\n"
     ]
    }
   ],
   "source": [
    "newlist = [fruit.upper() for fruit in fruits]\n",
    "print(newlist)"
   ]
  },
  {
   "cell_type": "markdown",
   "metadata": {},
   "source": [
    "### I do not like bananas.  Change the item from banana to orange"
   ]
  },
  {
   "cell_type": "code",
   "execution_count": 25,
   "metadata": {},
   "outputs": [
    {
     "name": "stdout",
     "output_type": "stream",
     "text": [
      "['apple', 'orange', 'cherry', 'kiwi', 'mango']\n"
     ]
    }
   ],
   "source": [
    "newlist = [fruit if fruit != \"banana\" else \"orange\" for fruit in fruits]\n",
    "print(newlist)"
   ]
  },
  {
   "cell_type": "markdown",
   "metadata": {},
   "source": [
    "# Using a LIST to process a file"
   ]
  },
  {
   "cell_type": "code",
   "execution_count": 26,
   "metadata": {},
   "outputs": [
    {
     "name": "stdout",
     "output_type": "stream",
     "text": [
      "The domains found were ...\n",
      "uct.ac.za, media.berkeley.edu, umich.edu, iupui.edu, caret.cam.ac.uk, gmail.com, \n",
      "\n",
      "The number of domains found was: 6\n"
     ]
    }
   ],
   "source": [
    "#1. Open the file\n",
    "fhand = open(\"mbox-short.txt\")\n",
    "\n",
    "#2. Create an empty list\n",
    "listOfDomains = []\n",
    "\n",
    "#3. Loop through the lines inside the file\n",
    "for line in fhand:\n",
    "    #3a. Remove the \\n at the end of each line\n",
    "    line = line.rstrip()\n",
    "    #3b. Look for lines that contain \"From\"\n",
    "    if \"From\" in line:\n",
    "        #3c. Determine the start of the domain by looking for the preceding @ symbol\n",
    "        startPOS = line.find(\"@\") + 1\n",
    "        #3d. Find the space immediately after the domain. The first space after the @ symbol\n",
    "        endPOS = line.find(\" \", startPOS)\n",
    "        \n",
    "        #3e. Some FROM statements do not have a space after the domain and instead end immediately after\n",
    "        # the domain.  For those we need to watch out of a return of -1\n",
    "        if endPOS == -1:\n",
    "            #There was no space after the domain so tell Python to go to the end of the string\n",
    "            domain = line[startPOS : ].strip()\n",
    "        else:\n",
    "            #There was a space so tell Python to go all the way to the space after the domain\n",
    "            domain = line[startPOS : endPOS + 1].strip()\n",
    "            \n",
    "        #3f. If the domain was not already in the list then add it.\n",
    "        if domain not in listOfDomains:\n",
    "            listOfDomains.append(domain)\n",
    "            #print(domain)  #Print the domain if you want to see it\n",
    "\n",
    "#4. Print the domains that you found\n",
    "print(\"The domains found were ...\")\n",
    "for domain in listOfDomains:\n",
    "    print(domain + \", \", end=\"\")\n",
    "print()\n",
    "\n",
    "#5. Print how many domains you found.\n",
    "print()\n",
    "print(\"The number of domains found was:\", len(listOfDomains))"
   ]
  },
  {
   "cell_type": "markdown",
   "metadata": {},
   "source": [
    "### Same example as above CELL but without any comments"
   ]
  },
  {
   "cell_type": "code",
   "execution_count": 27,
   "metadata": {},
   "outputs": [
    {
     "name": "stdout",
     "output_type": "stream",
     "text": [
      "The domains found were ...\n",
      "uct.ac.za, media.berkeley.edu, umich.edu, iupui.edu, caret.cam.ac.uk, gmail.com, \n",
      "\n",
      "The number of domains found was: 6\n"
     ]
    }
   ],
   "source": [
    "fhand = open(\"mbox-short.txt\")\n",
    "listOfDomains = []\n",
    "for line in fhand:\n",
    "    line = line.rstrip()\n",
    "    if \"From\" in line:\n",
    "        startPOS = line.find(\"@\") + 1\n",
    "        endPOS = line.find(\" \", startPOS)\n",
    "        if endPOS == -1:\n",
    "            domain = line[startPOS : ].strip()\n",
    "        else:\n",
    "            domain = line[startPOS : endPOS + 1].strip()\n",
    "        if domain not in listOfDomains:\n",
    "            listOfDomains.append(domain)\n",
    "print(\"The domains found were ...\")\n",
    "for domain in listOfDomains:\n",
    "    print(domain + \", \", end=\"\")\n",
    "print()\n",
    "print()\n",
    "print(\"The number of domains found was:\", len(listOfDomains))"
   ]
  },
  {
   "cell_type": "markdown",
   "metadata": {},
   "source": [
    "# New and Improved - Using a list"
   ]
  },
  {
   "cell_type": "code",
   "execution_count": 3,
   "metadata": {},
   "outputs": [
    {
     "name": "stdout",
     "output_type": "stream",
     "text": [
      "['uct.ac.za', 'media.berkeley.edu', 'umich.edu', 'iupui.edu', 'caret.cam.ac.uk', 'gmail.com']\n"
     ]
    }
   ],
   "source": [
    "fhand = open(\"mbox-short.txt\")\n",
    "listOfDomains = []\n",
    "for line in fhand:\n",
    "    line = line.rstrip()\n",
    "    if \"From\" in line:\n",
    "        #Break up the record into individual words\n",
    "        tmpList = line.split()\n",
    "        #print(tmpList)\n",
    "        #print(tmpList[1])\n",
    "        #Take the second word (email) and save it in 'email' variable\n",
    "        email = tmpList[1]\n",
    "        #Split the email into USER and DOMAIN\n",
    "        emailLIST = email.split('@')\n",
    "        #print(emailLIST)\n",
    "        #Take the domain and save it in 'domain' email\n",
    "        domain = emailLIST[1]\n",
    "        #print(domain)\n",
    "        #Check to see if the domain is already in your list of domains\n",
    "        if domain not in listOfDomains:\n",
    "            listOfDomains.append(domain)\n",
    "print(listOfDomains)"
   ]
  },
  {
   "cell_type": "markdown",
   "metadata": {},
   "source": [
    "### Same example as above CELL but without any comments"
   ]
  },
  {
   "cell_type": "code",
   "execution_count": 29,
   "metadata": {},
   "outputs": [
    {
     "name": "stdout",
     "output_type": "stream",
     "text": [
      "['uct.ac.za', 'media.berkeley.edu', 'umich.edu', 'iupui.edu', 'caret.cam.ac.uk', 'gmail.com']\n"
     ]
    }
   ],
   "source": [
    "fhand = open(\"mbox-short.txt\")\n",
    "listOfDomains = []\n",
    "for line in fhand:\n",
    "    line = line.rstrip()\n",
    "    if \"From\" in line:\n",
    "        tmpList = line.split()\n",
    "        email = tmpList[1]\n",
    "        emailLIST = email.split('@')\n",
    "        domain = emailLIST[1]\n",
    "        if domain not in listOfDomains:\n",
    "            listOfDomains.append(domain)\n",
    "print(listOfDomains)"
   ]
  }
 ],
 "metadata": {
  "kernelspec": {
   "display_name": "Python 3",
   "language": "python",
   "name": "python3"
  },
  "language_info": {
   "codemirror_mode": {
    "name": "ipython",
    "version": 3
   },
   "file_extension": ".py",
   "mimetype": "text/x-python",
   "name": "python",
   "nbconvert_exporter": "python",
   "pygments_lexer": "ipython3",
   "version": "3.8.5"
  }
 },
 "nbformat": 4,
 "nbformat_minor": 4
}
