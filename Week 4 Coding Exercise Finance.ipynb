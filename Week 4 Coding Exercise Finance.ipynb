{
 "cells": [
  {
   "cell_type": "markdown",
   "metadata": {},
   "source": [
    "# Coding Exercise - Week 4\n",
    "### Part A: Convert each line to all CAPS and print it.  \n",
    "Write a program to read through the text file *mbox-short.txt* and \n",
    " - Print the contents of the file (line by line) all in upper case (Hint: Use string function called upper()). \n",
    " - <i>Only print lines that start with <b>\"From:\"</b></i> (Hint: Use string function startswith()). \n",
    " - Count the number of lines you find that start with the word <i>From</i>\n",
    " - Calculate what percentage of the file's lines (or records) start with the string <b>\"From:\"</b>?\n",
    " - Don't forget to close the file.\n",
    "\n",
    "Below is an example of first 2 lines and last 3 lines of your output. And the total number of emails should be 27.\n",
    "<pre>\n",
    "FROM: STEPHEN.MARQUARD@UCT.AC.ZA\n",
    "FROM: LOUIS@MEDIA.BERKELEY.EDU\n",
    "...\n",
    "FROM: CWEN@IUPUI.EDU\n",
    "FROM: CWEN@IUPUI.EDU\n",
    "\n",
    "Found 27 records starting with From:\n",
    "The percentage of lines that started with 'From:' was 1.4%\n",
    "</pre>\n",
    "\n"
   ]
  },
  {
   "cell_type": "code",
   "execution_count": 33,
   "metadata": {
    "scrolled": true
   },
   "outputs": [
    {
     "name": "stdout",
     "output_type": "stream",
     "text": [
      "FROM: STEPHEN.MARQUARD@UCT.AC.ZA\n",
      "FROM: LOUIS@MEDIA.BERKELEY.EDU\n",
      "FROM: ZQIAN@UMICH.EDU\n",
      "FROM: RJLOWE@IUPUI.EDU\n",
      "FROM: ZQIAN@UMICH.EDU\n",
      "FROM: RJLOWE@IUPUI.EDU\n",
      "FROM: CWEN@IUPUI.EDU\n",
      "FROM: CWEN@IUPUI.EDU\n",
      "FROM: GSILVER@UMICH.EDU\n",
      "FROM: GSILVER@UMICH.EDU\n",
      "FROM: ZQIAN@UMICH.EDU\n",
      "FROM: GSILVER@UMICH.EDU\n",
      "FROM: WAGNERMR@IUPUI.EDU\n",
      "FROM: ZQIAN@UMICH.EDU\n",
      "FROM: ANTRANIG@CARET.CAM.AC.UK\n",
      "FROM: GOPAL.RAMASAMMYCOOK@GMAIL.COM\n",
      "FROM: DAVID.HORWITZ@UCT.AC.ZA\n",
      "FROM: DAVID.HORWITZ@UCT.AC.ZA\n",
      "FROM: DAVID.HORWITZ@UCT.AC.ZA\n",
      "FROM: DAVID.HORWITZ@UCT.AC.ZA\n",
      "FROM: STEPHEN.MARQUARD@UCT.AC.ZA\n",
      "FROM: LOUIS@MEDIA.BERKELEY.EDU\n",
      "FROM: LOUIS@MEDIA.BERKELEY.EDU\n",
      "FROM: RAY@MEDIA.BERKELEY.EDU\n",
      "FROM: CWEN@IUPUI.EDU\n",
      "FROM: CWEN@IUPUI.EDU\n",
      "FROM: CWEN@IUPUI.EDU\n",
      "\n",
      "Found 27 records starting with From:\n",
      "The percentage of lines that started with 'From:' was 1.4 %\n"
     ]
    }
   ],
   "source": [
    "filex = open('mbox-short.txt')\n",
    "\n",
    "count = 0\n",
    "countall = 0\n",
    "for line in filex :\n",
    "    line = line.rstrip()\n",
    "    countall = countall +1\n",
    "    if line.startswith('From:'):\n",
    "        count = count +1\n",
    "        print(line.upper())\n",
    "        percent = round((count/countall)*100,1)\n",
    "        \n",
    "print(\"\")\n",
    "print(\"Found\" , count , \"records starting with From:\")\n",
    "print(\"The percentage of lines that started with 'From:' was\" , percent,\"%\")"
   ]
  },
  {
   "cell_type": "markdown",
   "metadata": {},
   "source": [
    "### Part B: Exercise working with strings\n",
    "Write a program to read through the text file *mbox-short.txt* like you did in the pevious coding exercise. Examine each line in the file in a loop. \n",
    " * For the lines that start with \"Received\" and <b>contains</b> \"localhost\" but <b>not</b> apache@localhost , print out the name of the sender. \n",
    "     * Hint: \n",
    "         * Example line from the text file starting with the word <i>Received</i>\n",
    "             * <b>Received: from murder (mail.umich.edu [141.211.14.90])</b>\n",
    "         * In the above line find where the word \"from \" ends <i>(position 15)</i>\n",
    "         * In the above line find the location of the \")\"  <i>(position 53)</i>\n",
    "         * Use the above two calculated values (15 & 53) to SLICE the line into the substring that we need\n",
    "             * (i.e. subString = line[subStringStart:subStringEnd + 1])\n",
    " * Keep a counter to know how many emails that you found.\n",
    " * Print out the counter. \n",
    " \n",
    " Be sure that all the lines are printed out without any spaces before or after.\n",
    "\n",
    "Below is an example of first 5 lines of the output. And the total number of emails recieved should be 162.\n",
    "<pre>\n",
    "paploo.uhi.ac.uk (localhost [127.0.0.1])\n",
    "nakamura.uits.iupui.edu (localhost [127.0.0.1])\n",
    "paploo.uhi.ac.uk (localhost [127.0.0.1])\n",
    "nakamura.uits.iupui.edu (localhost [127.0.0.1])\n",
    "paploo.uhi.ac.uk (localhost [127.0.0.1])\n",
    "...\n",
    "54\n",
    "</pre>\n"
   ]
  },
  {
   "cell_type": "code",
   "execution_count": 103,
   "metadata": {
    "scrolled": true
   },
   "outputs": [
    {
     "name": "stdout",
     "output_type": "stream",
     "text": [
      "paploo.uhi.ac.uk (localhost [127.0.0.1])\n",
      "nakamura.uits.iupui.edu (localhost [127.0.0.1])\n",
      "paploo.uhi.ac.uk (localhost [127.0.0.1])\n",
      "nakamura.uits.iupui.edu (localhost [127.0.0.1])\n",
      "paploo.uhi.ac.uk (localhost [127.0.0.1])\n",
      "nakamura.uits.iupui.edu (localhost [127.0.0.1])\n",
      "paploo.uhi.ac.uk (localhost [127.0.0.1])\n",
      "nakamura.uits.iupui.edu (localhost [127.0.0.1])\n",
      "paploo.uhi.ac.uk (localhost [127.0.0.1])\n",
      "nakamura.uits.iupui.edu (localhost [127.0.0.1])\n",
      "paploo.uhi.ac.uk (localhost [127.0.0.1])\n",
      "nakamura.uits.iupui.edu (localhost [127.0.0.1])\n",
      "paploo.uhi.ac.uk (localhost [127.0.0.1])\n",
      "nakamura.uits.iupui.edu (localhost [127.0.0.1])\n",
      "paploo.uhi.ac.uk (localhost [127.0.0.1])\n",
      "nakamura.uits.iupui.edu (localhost [127.0.0.1])\n",
      "paploo.uhi.ac.uk (localhost [127.0.0.1])\n",
      "nakamura.uits.iupui.edu (localhost [127.0.0.1])\n",
      "paploo.uhi.ac.uk (localhost [127.0.0.1])\n",
      "nakamura.uits.iupui.edu (localhost [127.0.0.1])\n",
      "paploo.uhi.ac.uk (localhost [127.0.0.1])\n",
      "nakamura.uits.iupui.edu (localhost [127.0.0.1])\n",
      "paploo.uhi.ac.uk (localhost [127.0.0.1])\n",
      "nakamura.uits.iupui.edu (localhost [127.0.0.1])\n",
      "paploo.uhi.ac.uk (localhost [127.0.0.1])\n",
      "nakamura.uits.iupui.edu (localhost [127.0.0.1])\n",
      "paploo.uhi.ac.uk (localhost [127.0.0.1])\n",
      "nakamura.uits.iupui.edu (localhost [127.0.0.1])\n",
      "paploo.uhi.ac.uk (localhost [127.0.0.1])\n",
      "nakamura.uits.iupui.edu (localhost [127.0.0.1])\n",
      "paploo.uhi.ac.uk (localhost [127.0.0.1])\n",
      "nakamura.uits.iupui.edu (localhost [127.0.0.1])\n",
      "paploo.uhi.ac.uk (localhost [127.0.0.1])\n",
      "nakamura.uits.iupui.edu (localhost [127.0.0.1])\n",
      "paploo.uhi.ac.uk (localhost [127.0.0.1])\n",
      "nakamura.uits.iupui.edu (localhost [127.0.0.1])\n",
      "paploo.uhi.ac.uk (localhost [127.0.0.1])\n",
      "nakamura.uits.iupui.edu (localhost [127.0.0.1])\n",
      "paploo.uhi.ac.uk (localhost [127.0.0.1])\n",
      "nakamura.uits.iupui.edu (localhost [127.0.0.1])\n",
      "paploo.uhi.ac.uk (localhost [127.0.0.1])\n",
      "nakamura.uits.iupui.edu (localhost [127.0.0.1])\n",
      "paploo.uhi.ac.uk (localhost [127.0.0.1])\n",
      "nakamura.uits.iupui.edu (localhost [127.0.0.1])\n",
      "paploo.uhi.ac.uk (localhost [127.0.0.1])\n",
      "nakamura.uits.iupui.edu (localhost [127.0.0.1])\n",
      "paploo.uhi.ac.uk (localhost [127.0.0.1])\n",
      "nakamura.uits.iupui.edu (localhost [127.0.0.1])\n",
      "paploo.uhi.ac.uk (localhost [127.0.0.1])\n",
      "nakamura.uits.iupui.edu (localhost [127.0.0.1])\n",
      "paploo.uhi.ac.uk (localhost [127.0.0.1])\n",
      "nakamura.uits.iupui.edu (localhost [127.0.0.1])\n",
      "paploo.uhi.ac.uk (localhost [127.0.0.1])\n",
      "nakamura.uits.iupui.edu (localhost [127.0.0.1])\n",
      "54\n"
     ]
    }
   ],
   "source": [
    "count = 0\n",
    "\n",
    "filey = open('mbox-short.txt')\n",
    "for line in filey :\n",
    "    line = line.rstrip()\n",
    "    if  line.startswith(\"Received\"):\n",
    "        if not 'apache@localhost' in line:\n",
    "            if 'localhost' in line:\n",
    "                linestart = line.find(\"from \") +5\n",
    "                lineend = line.find(\")\")\n",
    "                totalline = line[linestart:lineend + 1]\n",
    "                count = count +1\n",
    "                print(totalline)\n",
    "print(count)\n",
    "        \n",
    "\n",
    "            \n",
    "        "
   ]
  },
  {
   "cell_type": "markdown",
   "metadata": {},
   "source": [
    "## Optional \"Brainteaser\"\n",
    "### Exercise working with strings and dates\n",
    "Write a program to read through the text file *mbox-short.txt*. Examine each line in the file in a loop. For the lines that start with \"Date:\", get the date and time part of the string, use datetime.strptime() to convert it to a datetime object and print out the result. Note that the datetime has 2 types of formats \n",
    "1. Sat, 05 Jan 2008 09:14:16\n",
    "1. 2008-01-05 09:12:07\n",
    "\n",
    "Your code needs to check which type the date is and use appropriate format string to perform the conversion. Be careful that space are not at the beginning or end of the string so the conversion can be successful. Keep a counter to know how many dates are in this log. Print out the counter.\n",
    "Below is an example of first 5 lines of the output. And the total number of dates 54.\n",
    "<pre>\n",
    "2008-01-05 09:12:18\n",
    "2008-01-05 09:12:07\n",
    "2008-01-04 18:08:57\n",
    "2008-01-04 18:08:50\n",
    "2008-01-04 16:09:02\n",
    "...\n",
    "54\n",
    "</pre>"
   ]
  },
  {
   "cell_type": "code",
   "execution_count": null,
   "metadata": {
    "scrolled": true
   },
   "outputs": [],
   "source": []
  },
  {
   "cell_type": "code",
   "execution_count": null,
   "metadata": {},
   "outputs": [],
   "source": []
  }
 ],
 "metadata": {
  "kernelspec": {
   "display_name": "Python 3",
   "language": "python",
   "name": "python3"
  },
  "language_info": {
   "codemirror_mode": {
    "name": "ipython",
    "version": 3
   },
   "file_extension": ".py",
   "mimetype": "text/x-python",
   "name": "python",
   "nbconvert_exporter": "python",
   "pygments_lexer": "ipython3",
   "version": "3.8.5"
  }
 },
 "nbformat": 4,
 "nbformat_minor": 4
}
