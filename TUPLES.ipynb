{
 "cells": [
  {
   "cell_type": "markdown",
   "metadata": {},
   "source": [
    "# Tuples (Read Only Lists)"
   ]
  },
  {
   "cell_type": "markdown",
   "metadata": {},
   "source": [
    "### LIST"
   ]
  },
  {
   "cell_type": "code",
   "execution_count": 5,
   "metadata": {},
   "outputs": [
    {
     "name": "stdout",
     "output_type": "stream",
     "text": [
      "['Glenn', 'Sally', 'Joseph']\n",
      "\n",
      "['Glenn', 'Sally', 'Jay']\n",
      "That worked!!\n"
     ]
    }
   ],
   "source": [
    "#LIST\n",
    "x = ['Glenn', 'Sally', 'Joseph']\n",
    "print(x) #Orginal LIST\n",
    "print()\n",
    "\n",
    "x[2] = \"Jay\"\n",
    "print(x) # Updated LIST\n",
    "print(\"That worked!!\")"
   ]
  },
  {
   "cell_type": "markdown",
   "metadata": {},
   "source": [
    "### TUPLE"
   ]
  },
  {
   "cell_type": "code",
   "execution_count": 6,
   "metadata": {},
   "outputs": [
    {
     "name": "stdout",
     "output_type": "stream",
     "text": [
      "When you tried to update the TUPLE the program had a run-time error. It did not change.\n",
      "('Glenn', 'Sally', 'Joseph')\n",
      "\n",
      "(1, 9, 2)\n",
      "\n"
     ]
    }
   ],
   "source": [
    "#TUPLE with STRINGS\n",
    "try:\n",
    "    y = ('Glenn', 'Sally', 'Joseph')\n",
    "    y[2] = \"Jay\"\n",
    "except:\n",
    "    print(\"When you tried to update the TUPLE the program had a run-time error. It did not change.\")\n",
    "\n",
    "print(y)\n",
    "print()\n",
    "    \n",
    "# TUPLE with numbers    \n",
    "z = ( 1, 9, 2 )\n",
    "print(z)\n",
    "print()\n"
   ]
  },
  {
   "cell_type": "markdown",
   "metadata": {},
   "source": [
    "### Functions?"
   ]
  },
  {
   "cell_type": "code",
   "execution_count": 12,
   "metadata": {},
   "outputs": [
    {
     "name": "stdout",
     "output_type": "stream",
     "text": [
      "3\n",
      "That did not work.\n",
      "[1, 2, 3]\n"
     ]
    }
   ],
   "source": [
    "# Some functions can work on TUPLES just like they can on LISTS\n",
    "print(max(y)) # Maximum value in TUPLE\n",
    "\n",
    "# Other functions cannot. Functions that try to UPDATE or CHANGE the TUPLES are not allowed.\n",
    "# This is because TUPLES are read-only.  TUPLES are IMMUTABLE (read-only)\n",
    "x = (3, 2, 1)\n",
    "try:\n",
    "    #This will fail so I added it inside a try... except statement\n",
    "    x.sort()     # No sorting\n",
    "    x.append(5)  # No adding to it\n",
    "    x.reverse()  # No reversing the items in the TUPLE\n",
    "except:\n",
    "    print(\"That did not work.\")\n",
    "    \n",
    "#Is there any way around this? Yes.\n",
    "y = sorted(x)\n",
    "print(y)"
   ]
  },
  {
   "cell_type": "markdown",
   "metadata": {},
   "source": [
    "### Using TUPLES to assign values to multiple variables in a single line of code"
   ]
  },
  {
   "cell_type": "code",
   "execution_count": 13,
   "metadata": {},
   "outputs": [
    {
     "name": "stdout",
     "output_type": "stream",
     "text": [
      "Jay D Newquist\n",
      "\n",
      "Jay D Newquist\n"
     ]
    }
   ],
   "source": [
    "firstname = \"Jay\"\n",
    "lastname = \"Newquist\"\n",
    "MI = \"D\"\n",
    "print(firstname, MI, lastname)\n",
    "print()\n",
    "\n",
    "#You can use TUPLES on the left hand side of a statement\n",
    "(x, y, z) = (\"Jay\", \"Newquist\", \"D\")\n",
    "print(x, z, y)"
   ]
  },
  {
   "cell_type": "markdown",
   "metadata": {},
   "source": [
    "### Tuples are Comparable"
   ]
  },
  {
   "cell_type": "code",
   "execution_count": 22,
   "metadata": {},
   "outputs": [
    {
     "name": "stdout",
     "output_type": "stream",
     "text": [
      "True \n",
      "\n",
      "\n",
      "True \n",
      "\n",
      "\n",
      "True \n",
      "\n",
      "\n",
      "True \n",
      "\n",
      "\n"
     ]
    }
   ],
   "source": [
    "# Less than? What does that mean?  Comparing one number at a time.\n",
    "eval1 = (0, 1, 2) < (5, 1, 2)  #The first number in the first TUPLE is less than the first number in the second TUPLE\n",
    "print(eval1,\"\\n\")\n",
    "print()\n",
    "\n",
    "# What number/digit/character makes the difference?\n",
    "\n",
    "eval1 = (0, 1, 2000000) < (0, 3, 4)               # 1 vs. 3\n",
    "print(eval1,\"\\n\")\n",
    "print()\n",
    "\n",
    "eval1 = ( 'Jones', 'Sally' ) < ('Jones', 'Sam')  # l vs. m\n",
    "print(eval1,\"\\n\")\n",
    "print()\n",
    "\n",
    "eval1 = ( 'Jones', 'Sally') > ('Adams', 'Sam')  #  J vs. A\n",
    "print(eval1,\"\\n\")\n",
    "print()\n",
    "\n"
   ]
  }
 ],
 "metadata": {
  "kernelspec": {
   "display_name": "Python 3",
   "language": "python",
   "name": "python3"
  },
  "language_info": {
   "codemirror_mode": {
    "name": "ipython",
    "version": 3
   },
   "file_extension": ".py",
   "mimetype": "text/x-python",
   "name": "python",
   "nbconvert_exporter": "python",
   "pygments_lexer": "ipython3",
   "version": "3.8.5"
  }
 },
 "nbformat": 4,
 "nbformat_minor": 4
}
