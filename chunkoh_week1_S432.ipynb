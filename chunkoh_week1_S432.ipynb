{
 "cells": [
  {
   "cell_type": "markdown",
   "metadata": {},
   "source": [
    "# My First Python Jupyter Notebook"
   ]
  },
  {
   "cell_type": "markdown",
   "metadata": {},
   "source": [
    "## Purposes of Using a Jupyter Notebook\n",
    "1. Interactive Environment\n",
    "1. Easier access and allow user to change the file from the computer directly\n",
    "1. Documentation purposes"
   ]
  },
  {
   "cell_type": "markdown",
   "metadata": {},
   "source": [
    "## Types of Cells\n",
    "- Markdown Cells\n",
    "- Code Cells"
   ]
  },
  {
   "cell_type": "markdown",
   "metadata": {},
   "source": [
    "## Important Operations\n",
    "- Add a cell by using keyboard shortcuts such as : A for insert cell above and B for insert cell below\n",
    "- Execute a cell by using keyboard shortcuts : ( Command + Enter ) for the run function"
   ]
  },
  {
   "cell_type": "markdown",
   "metadata": {},
   "source": [
    "## Code Cell Execution\n",
    "1. Execute a single cell\n",
    "1. Execute multiple cells\n",
    "1. When executing multiple cells, the default order is from top to bottom."
   ]
  },
  {
   "attachments": {
    "apple.jpeg": {
     "image/jpeg": "[encoded data removed]"
    }
   },
   "cell_type": "markdown",
   "metadata": {},
   "source": [
    "## Add Graphics to the Notebook\n",
    "![apple.jpeg](attachment:apple.jpeg)"
   ]
  },
  {
   "cell_type": "code",
   "execution_count": 1,
   "metadata": {},
   "outputs": [
    {
     "data": {
      "text/plain": [
       "216.70000000000002"
      ]
     },
     "execution_count": 1,
     "metadata": {},
     "output_type": "execute_result"
    }
   ],
   "source": [
    "12+23*8.9"
   ]
  },
  {
   "cell_type": "code",
   "execution_count": 2,
   "metadata": {},
   "outputs": [
    {
     "name": "stdout",
     "output_type": "stream",
     "text": [
      "My favorite song is Lose Yourself\n"
     ]
    }
   ],
   "source": [
    "print(\"My favorite song is Lose Yourself\")"
   ]
  }
 ],
 "metadata": {
  "kernelspec": {
   "display_name": "Python 3",
   "language": "python",
   "name": "python3"
  },
  "language_info": {
   "codemirror_mode": {
    "name": "ipython",
    "version": 3
   },
   "file_extension": ".py",
   "mimetype": "text/x-python",
   "name": "python",
   "nbconvert_exporter": "python",
   "pygments_lexer": "ipython3",
   "version": "3.8.5"
  }
 },
 "nbformat": 4,
 "nbformat_minor": 4
}
